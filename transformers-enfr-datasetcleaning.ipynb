{
 "cells": [
  {
   "cell_type": "markdown",
   "id": "857adc15",
   "metadata": {
    "papermill": {
     "duration": 0.011857,
     "end_time": "2023-10-05T23:23:33.161843",
     "exception": false,
     "start_time": "2023-10-05T23:23:33.149986",
     "status": "completed"
    },
    "tags": []
   },
   "source": [
    "# English to French translation system with transformers I: Data cleaning "
   ]
  },
  {
   "cell_type": "markdown",
   "id": "0778e59b",
   "metadata": {
    "papermill": {
     "duration": 0.012364,
     "end_time": "2023-10-05T23:23:33.185820",
     "exception": false,
     "start_time": "2023-10-05T23:23:33.173456",
     "status": "completed"
    },
    "tags": []
   },
   "source": [
    "In this notebook, we shall prepare a dataset that shall be used to train a transformer-based English to French translation system. \n",
    "\n",
    "The raw dataset, which contains a large list of English-French sentence pairs, shall be processed and simplified:\n",
    "- Capitalisation and excess punctuation shall be removed. Data-points with certain special characters shall be removed.\n",
    "- The dataset contains many duplicates (i.e. English sentences with multiple distinct French translations). These may cause difficulty training the model. We shall remove all but one datapoint for each set of duplicates. \n",
    "- The transformer model takes in sentences of a fixed maximum length, hence we set this value and remove sentences longer that this length. Setting the maximum length too big will lead to a larger model (requires more compute to train), whereas setting it too small will lead to too many data-points being removed.  \n",
    "- The output of the transformer model is a discrete probability distributions over a set of French word (the set of \"known French words\"). We shall construct this set based on frequency of appearance in the dataset and replace French words not in the list by an \"unknown token\" `<unk>`. If this set is too large, then the model shall be too large to train with our resources. If it too small then we will lose too much information due to unknown words. \n"
   ]
  },
  {
   "cell_type": "code",
   "execution_count": 1,
   "id": "7183d2f6",
   "metadata": {
    "execution": {
     "iopub.execute_input": "2023-10-05T23:23:33.210859Z",
     "iopub.status.busy": "2023-10-05T23:23:33.210378Z",
     "iopub.status.idle": "2023-10-05T23:23:37.988020Z",
     "shell.execute_reply": "2023-10-05T23:23:37.986816Z"
    },
    "papermill": {
     "duration": 4.793463,
     "end_time": "2023-10-05T23:23:37.990683",
     "exception": false,
     "start_time": "2023-10-05T23:23:33.197220",
     "status": "completed"
    },
    "tags": []
   },
   "outputs": [],
   "source": [
    "import torch\n",
    "from torch import nn\n",
    "from torch.utils.data import TensorDataset\n",
    "import torch.functional as F\n",
    "import numpy as np\n",
    "import matplotlib.pyplot as plt\n",
    "import pandas as pd\n",
    "import re # regex\n",
    "from tqdm import tqdm\n",
    "from collections import Counter\n",
    "import torchtext"
   ]
  },
  {
   "cell_type": "markdown",
   "id": "0fac5db5",
   "metadata": {
    "papermill": {
     "duration": 0.011393,
     "end_time": "2023-10-05T23:23:38.013897",
     "exception": false,
     "start_time": "2023-10-05T23:23:38.002504",
     "status": "completed"
    },
    "tags": []
   },
   "source": [
    "## Dataset"
   ]
  },
  {
   "cell_type": "markdown",
   "id": "01cc3230",
   "metadata": {
    "papermill": {
     "duration": 0.011914,
     "end_time": "2023-10-05T23:23:38.037434",
     "exception": false,
     "start_time": "2023-10-05T23:23:38.025520",
     "status": "completed"
    },
    "tags": []
   },
   "source": [
    "We shall use the tab-separated En - Fr sentence pairs dataset found on this site:\n",
    "http://www.manythings.org/bilingual/. "
   ]
  },
  {
   "cell_type": "markdown",
   "id": "d58c6393",
   "metadata": {
    "papermill": {
     "duration": 0.011446,
     "end_time": "2023-10-05T23:23:38.060599",
     "exception": false,
     "start_time": "2023-10-05T23:23:38.049153",
     "status": "completed"
    },
    "tags": []
   },
   "source": [
    "Loading the dataset into a pandas dataframe:"
   ]
  },
  {
   "cell_type": "code",
   "execution_count": 2,
   "id": "49a3a057",
   "metadata": {
    "execution": {
     "iopub.execute_input": "2023-10-05T23:23:38.086039Z",
     "iopub.status.busy": "2023-10-05T23:23:38.085451Z",
     "iopub.status.idle": "2023-10-05T23:23:39.237208Z",
     "shell.execute_reply": "2023-10-05T23:23:39.236123Z"
    },
    "papermill": {
     "duration": 1.167146,
     "end_time": "2023-10-05T23:23:39.239597",
     "exception": false,
     "start_time": "2023-10-05T23:23:38.072451",
     "status": "completed"
    },
    "tags": []
   },
   "outputs": [
    {
     "data": {
      "text/html": [
       "<div>\n",
       "<style scoped>\n",
       "    .dataframe tbody tr th:only-of-type {\n",
       "        vertical-align: middle;\n",
       "    }\n",
       "\n",
       "    .dataframe tbody tr th {\n",
       "        vertical-align: top;\n",
       "    }\n",
       "\n",
       "    .dataframe thead th {\n",
       "        text-align: right;\n",
       "    }\n",
       "</style>\n",
       "<table border=\"1\" class=\"dataframe\">\n",
       "  <thead>\n",
       "    <tr style=\"text-align: right;\">\n",
       "      <th></th>\n",
       "      <th>En</th>\n",
       "      <th>Fr</th>\n",
       "    </tr>\n",
       "  </thead>\n",
       "  <tbody>\n",
       "    <tr>\n",
       "      <th>0</th>\n",
       "      <td>Go.</td>\n",
       "      <td>Va !</td>\n",
       "    </tr>\n",
       "    <tr>\n",
       "      <th>1</th>\n",
       "      <td>Hi.</td>\n",
       "      <td>Salut !</td>\n",
       "    </tr>\n",
       "    <tr>\n",
       "      <th>2</th>\n",
       "      <td>Hi.</td>\n",
       "      <td>Salut.</td>\n",
       "    </tr>\n",
       "    <tr>\n",
       "      <th>3</th>\n",
       "      <td>Run!</td>\n",
       "      <td>Cours !</td>\n",
       "    </tr>\n",
       "    <tr>\n",
       "      <th>4</th>\n",
       "      <td>Run!</td>\n",
       "      <td>Courez !</td>\n",
       "    </tr>\n",
       "    <tr>\n",
       "      <th>...</th>\n",
       "      <td>...</td>\n",
       "      <td>...</td>\n",
       "    </tr>\n",
       "    <tr>\n",
       "      <th>177205</th>\n",
       "      <td>Top-down economics never works, said Obama. \"T...</td>\n",
       "      <td>« L'économie en partant du haut vers le bas, ç...</td>\n",
       "    </tr>\n",
       "    <tr>\n",
       "      <th>177206</th>\n",
       "      <td>A carbon footprint is the amount of carbon dio...</td>\n",
       "      <td>Une empreinte carbone est la somme de pollutio...</td>\n",
       "    </tr>\n",
       "    <tr>\n",
       "      <th>177207</th>\n",
       "      <td>Death is something that we're often discourage...</td>\n",
       "      <td>La mort est une chose qu'on nous décourage sou...</td>\n",
       "    </tr>\n",
       "    <tr>\n",
       "      <th>177208</th>\n",
       "      <td>Since there are usually multiple websites on a...</td>\n",
       "      <td>Puisqu'il y a de multiples sites web sur chaqu...</td>\n",
       "    </tr>\n",
       "    <tr>\n",
       "      <th>177209</th>\n",
       "      <td>If someone who doesn't know your background sa...</td>\n",
       "      <td>Si quelqu'un qui ne connaît pas vos antécédent...</td>\n",
       "    </tr>\n",
       "  </tbody>\n",
       "</table>\n",
       "<p>177210 rows × 2 columns</p>\n",
       "</div>"
      ],
      "text/plain": [
       "                                                       En  \\\n",
       "0                                                     Go.   \n",
       "1                                                     Hi.   \n",
       "2                                                     Hi.   \n",
       "3                                                    Run!   \n",
       "4                                                    Run!   \n",
       "...                                                   ...   \n",
       "177205  Top-down economics never works, said Obama. \"T...   \n",
       "177206  A carbon footprint is the amount of carbon dio...   \n",
       "177207  Death is something that we're often discourage...   \n",
       "177208  Since there are usually multiple websites on a...   \n",
       "177209  If someone who doesn't know your background sa...   \n",
       "\n",
       "                                                       Fr  \n",
       "0                                                    Va !  \n",
       "1                                                 Salut !  \n",
       "2                                                  Salut.  \n",
       "3                                                 Cours !  \n",
       "4                                                Courez !  \n",
       "...                                                   ...  \n",
       "177205  « L'économie en partant du haut vers le bas, ç...  \n",
       "177206  Une empreinte carbone est la somme de pollutio...  \n",
       "177207  La mort est une chose qu'on nous décourage sou...  \n",
       "177208  Puisqu'il y a de multiples sites web sur chaqu...  \n",
       "177209  Si quelqu'un qui ne connaît pas vos antécédent...  \n",
       "\n",
       "[177210 rows x 2 columns]"
      ]
     },
     "execution_count": 2,
     "metadata": {},
     "output_type": "execute_result"
    }
   ],
   "source": [
    "data = pd.read_csv(\"/kaggle/input/frenchenglish/fra.txt\", sep=\"\\t\", header=None)\n",
    "data = data.drop(2, axis = 1) # Drop final column \n",
    "data = data.set_axis(['En','Fr'], axis = 1) # Rename columns\n",
    "data"
   ]
  },
  {
   "cell_type": "markdown",
   "id": "a3dc1927",
   "metadata": {
    "papermill": {
     "duration": 0.012131,
     "end_time": "2023-10-05T23:23:39.264630",
     "exception": false,
     "start_time": "2023-10-05T23:23:39.252499",
     "status": "completed"
    },
    "tags": []
   },
   "source": [
    "## Data-cleaning:"
   ]
  },
  {
   "cell_type": "markdown",
   "id": "1fa377d2",
   "metadata": {
    "papermill": {
     "duration": 0.011633,
     "end_time": "2023-10-05T23:23:39.288457",
     "exception": false,
     "start_time": "2023-10-05T23:23:39.276824",
     "status": "completed"
    },
    "tags": []
   },
   "source": [
    "### Sentence cleaning"
   ]
  },
  {
   "cell_type": "markdown",
   "id": "771faf26",
   "metadata": {
    "papermill": {
     "duration": 0.011555,
     "end_time": "2023-10-05T23:23:39.311724",
     "exception": false,
     "start_time": "2023-10-05T23:23:39.300169",
     "status": "completed"
    },
    "tags": []
   },
   "source": [
    "Based on previous data exploration, we shall make the following simplications to the dataset (the order is important):\n",
    "- Make all text lower case.\n",
    "- Remove datapoints with sequence '! ', i.e. exclamation mark in the middle of a sentence.\n",
    "- Remove full stops and exclamation marks.\n",
    "- Treat commas and question marks like single word tokens. That is, replace \"?\" by \" ? \" and \",\" by \" , \". \n",
    "- Remove datapoints with sequences '-  ', ' -', \" '\" or \"' \". \n",
    "- Replace unbreakable spaces '\\xa0', '\\xad', '\\u2009', '\\u200b', '\\u202f' by spaces.\n",
    "- Remove any data points containing non-alphabetical characters not in { -',?}.\n",
    "- Replace double/triple spaces by spaces.\n",
    "- Remove any spaces at the start and end of sentences.\n",
    "- Remove any remaining double quotation marks.\n",
    "- Split words concatenated with dashes or apostrophes and treat the latter as single word tokens (replace \"'\" by \" ' \" and \"-\" by \" - \"). The reason for this is that the word embedding models we shall use down the line don't recognise words like \"we're\" and \"c'est\".\n"
   ]
  },
  {
   "cell_type": "code",
   "execution_count": 3,
   "id": "3d173e94",
   "metadata": {
    "execution": {
     "iopub.execute_input": "2023-10-05T23:23:39.337545Z",
     "iopub.status.busy": "2023-10-05T23:23:39.336859Z",
     "iopub.status.idle": "2023-10-05T23:23:39.348900Z",
     "shell.execute_reply": "2023-10-05T23:23:39.348085Z"
    },
    "papermill": {
     "duration": 0.027513,
     "end_time": "2023-10-05T23:23:39.351118",
     "exception": false,
     "start_time": "2023-10-05T23:23:39.323605",
     "status": "completed"
    },
    "tags": []
   },
   "outputs": [],
   "source": [
    "data_clean = data.copy()"
   ]
  },
  {
   "cell_type": "code",
   "execution_count": 4,
   "id": "93edbb19",
   "metadata": {
    "execution": {
     "iopub.execute_input": "2023-10-05T23:23:39.379720Z",
     "iopub.status.busy": "2023-10-05T23:23:39.379352Z",
     "iopub.status.idle": "2023-10-05T23:23:56.670124Z",
     "shell.execute_reply": "2023-10-05T23:23:56.668816Z"
    },
    "papermill": {
     "duration": 17.307329,
     "end_time": "2023-10-05T23:23:56.672500",
     "exception": false,
     "start_time": "2023-10-05T23:23:39.365171",
     "status": "completed"
    },
    "tags": []
   },
   "outputs": [],
   "source": [
    "# Make data lowercase\n",
    "def lower(row):\n",
    "    row.En = row.En.lower()\n",
    "    row.Fr = row.Fr.lower()\n",
    "    return row\n",
    "data_clean = data_clean.apply(lower, axis='columns')\n"
   ]
  },
  {
   "cell_type": "code",
   "execution_count": 5,
   "id": "1b97e2d2",
   "metadata": {
    "execution": {
     "iopub.execute_input": "2023-10-05T23:23:56.700077Z",
     "iopub.status.busy": "2023-10-05T23:23:56.699179Z",
     "iopub.status.idle": "2023-10-05T23:23:59.481016Z",
     "shell.execute_reply": "2023-10-05T23:23:59.479943Z"
    },
    "papermill": {
     "duration": 2.798663,
     "end_time": "2023-10-05T23:23:59.483461",
     "exception": false,
     "start_time": "2023-10-05T23:23:56.684798",
     "status": "completed"
    },
    "tags": []
   },
   "outputs": [],
   "source": [
    "# Remove datapoints with sequence '! ', i.e. exclamation mark in the middle of a sentence.\n",
    "def exclam_middle(row):\n",
    "    tst_en = bool(re.search('! ', row.En))\n",
    "    tst_fr = bool(re.search('! ', row.Fr))\n",
    "    return tst_en or tst_fr\n",
    "exclam_middle_indices = data_clean.apply(exclam_middle, axis='columns')\n",
    "data_clean = data_clean.loc[exclam_middle_indices == False]"
   ]
  },
  {
   "cell_type": "code",
   "execution_count": 6,
   "id": "b6115c77",
   "metadata": {
    "execution": {
     "iopub.execute_input": "2023-10-05T23:23:59.508857Z",
     "iopub.status.busy": "2023-10-05T23:23:59.508251Z",
     "iopub.status.idle": "2023-10-05T23:23:59.816519Z",
     "shell.execute_reply": "2023-10-05T23:23:59.815364Z"
    },
    "papermill": {
     "duration": 0.323659,
     "end_time": "2023-10-05T23:23:59.818872",
     "exception": false,
     "start_time": "2023-10-05T23:23:59.495213",
     "status": "completed"
    },
    "tags": []
   },
   "outputs": [
    {
     "data": {
      "text/plain": [
       "True"
      ]
     },
     "execution_count": 6,
     "metadata": {},
     "output_type": "execute_result"
    }
   ],
   "source": [
    "# test\n",
    "search = lambda string: bool(re.search('! ', string)) \n",
    "en_num = data_clean[\"En\"].apply(search)\n",
    "fr_num = data_clean[\"Fr\"].apply(search)\n",
    "idx_ser = en_num + fr_num > 0 \n",
    "data_search = data_clean.loc[idx_ser, [\"En\", \"Fr\"]]\n",
    "len(data_search) == 0"
   ]
  },
  {
   "cell_type": "code",
   "execution_count": 7,
   "id": "b946e40b",
   "metadata": {
    "execution": {
     "iopub.execute_input": "2023-10-05T23:23:59.845108Z",
     "iopub.status.busy": "2023-10-05T23:23:59.844174Z",
     "iopub.status.idle": "2023-10-05T23:24:17.152190Z",
     "shell.execute_reply": "2023-10-05T23:24:17.151293Z"
    },
    "papermill": {
     "duration": 17.323578,
     "end_time": "2023-10-05T23:24:17.154444",
     "exception": false,
     "start_time": "2023-10-05T23:23:59.830866",
     "status": "completed"
    },
    "tags": []
   },
   "outputs": [],
   "source": [
    "# Remove full stops and exclamation marks.\n",
    "def remove_full_exclam(row):\n",
    "    row.En = row.En.replace('.','').replace('!','')\n",
    "    row.Fr = row.Fr.replace('.','').replace('!','')\n",
    "    return row\n",
    "data_clean = data_clean.apply(remove_full_exclam, axis='columns')"
   ]
  },
  {
   "cell_type": "code",
   "execution_count": 8,
   "id": "d4a79dd3",
   "metadata": {
    "execution": {
     "iopub.execute_input": "2023-10-05T23:24:17.181054Z",
     "iopub.status.busy": "2023-10-05T23:24:17.179912Z",
     "iopub.status.idle": "2023-10-05T23:24:17.614480Z",
     "shell.execute_reply": "2023-10-05T23:24:17.613408Z"
    },
    "papermill": {
     "duration": 0.450157,
     "end_time": "2023-10-05T23:24:17.616622",
     "exception": false,
     "start_time": "2023-10-05T23:24:17.166465",
     "status": "completed"
    },
    "tags": []
   },
   "outputs": [
    {
     "data": {
      "text/plain": [
       "True"
      ]
     },
     "execution_count": 8,
     "metadata": {},
     "output_type": "execute_result"
    }
   ],
   "source": [
    "# test\n",
    "search = lambda string: bool(re.search('[.!]', string))\n",
    "en_num = data_clean[\"En\"].apply(search)\n",
    "fr_num = data_clean[\"Fr\"].apply(search)\n",
    "idx_ser = en_num + fr_num > 0 \n",
    "data_search = data_clean.loc[idx_ser, [\"En\", \"Fr\"]]\n",
    "len(data_search) == 0"
   ]
  },
  {
   "cell_type": "code",
   "execution_count": 9,
   "id": "f2fc5713",
   "metadata": {
    "execution": {
     "iopub.execute_input": "2023-10-05T23:24:17.642815Z",
     "iopub.status.busy": "2023-10-05T23:24:17.642434Z",
     "iopub.status.idle": "2023-10-05T23:24:34.446455Z",
     "shell.execute_reply": "2023-10-05T23:24:34.445183Z"
    },
    "papermill": {
     "duration": 16.820396,
     "end_time": "2023-10-05T23:24:34.449073",
     "exception": false,
     "start_time": "2023-10-05T23:24:17.628677",
     "status": "completed"
    },
    "tags": []
   },
   "outputs": [],
   "source": [
    "# Replace \"?\" by \" ? \" and \",\" by \" , \"\n",
    "def replace_quest_comma(row):\n",
    "    row.En = row.En.replace('?',' ? ').replace(',',' , ')\n",
    "    row.Fr = row.Fr.replace('?',' ? ').replace(',',' , ')\n",
    "    return row\n",
    "data_clean = data_clean.apply(replace_quest_comma, axis='columns')"
   ]
  },
  {
   "cell_type": "code",
   "execution_count": 10,
   "id": "bd7b2712",
   "metadata": {
    "execution": {
     "iopub.execute_input": "2023-10-05T23:24:34.476061Z",
     "iopub.status.busy": "2023-10-05T23:24:34.475188Z",
     "iopub.status.idle": "2023-10-05T23:24:34.872446Z",
     "shell.execute_reply": "2023-10-05T23:24:34.871004Z"
    },
    "papermill": {
     "duration": 0.413243,
     "end_time": "2023-10-05T23:24:34.875017",
     "exception": false,
     "start_time": "2023-10-05T23:24:34.461774",
     "status": "completed"
    },
    "tags": []
   },
   "outputs": [
    {
     "data": {
      "text/plain": [
       "True"
      ]
     },
     "execution_count": 10,
     "metadata": {},
     "output_type": "execute_result"
    }
   ],
   "source": [
    "# test comma\n",
    "search = lambda string: bool(re.search(',', string.replace(' ,','') ))\n",
    "en_num = data_clean[\"En\"].apply(search)\n",
    "fr_num = data_clean[\"Fr\"].apply(search)\n",
    "idx_ser = en_num + fr_num > 0 \n",
    "data_search = data_clean.loc[idx_ser, [\"En\", \"Fr\"]]\n",
    "len(data_search) == 0"
   ]
  },
  {
   "cell_type": "code",
   "execution_count": 11,
   "id": "30587ec1",
   "metadata": {
    "execution": {
     "iopub.execute_input": "2023-10-05T23:24:34.902291Z",
     "iopub.status.busy": "2023-10-05T23:24:34.901646Z",
     "iopub.status.idle": "2023-10-05T23:24:35.278487Z",
     "shell.execute_reply": "2023-10-05T23:24:35.277783Z"
    },
    "papermill": {
     "duration": 0.392528,
     "end_time": "2023-10-05T23:24:35.280506",
     "exception": false,
     "start_time": "2023-10-05T23:24:34.887978",
     "status": "completed"
    },
    "tags": []
   },
   "outputs": [
    {
     "data": {
      "text/plain": [
       "True"
      ]
     },
     "execution_count": 11,
     "metadata": {},
     "output_type": "execute_result"
    }
   ],
   "source": [
    "# test q mark\n",
    "search = lambda string: bool(re.search('\\?', string.replace(' ?','' )))\n",
    "en_num = data_clean[\"En\"].apply(search)\n",
    "fr_num = data_clean[\"Fr\"].apply(search)\n",
    "idx_ser = en_num + fr_num > 0 \n",
    "data_search = data_clean.loc[idx_ser, [\"En\", \"Fr\"]]\n",
    "len(data_search) == 0"
   ]
  },
  {
   "cell_type": "code",
   "execution_count": 12,
   "id": "4c64c55d",
   "metadata": {
    "execution": {
     "iopub.execute_input": "2023-10-05T23:24:35.307571Z",
     "iopub.status.busy": "2023-10-05T23:24:35.307189Z",
     "iopub.status.idle": "2023-10-05T23:24:38.532228Z",
     "shell.execute_reply": "2023-10-05T23:24:38.531009Z"
    },
    "papermill": {
     "duration": 3.241352,
     "end_time": "2023-10-05T23:24:38.534825",
     "exception": false,
     "start_time": "2023-10-05T23:24:35.293473",
     "status": "completed"
    },
    "tags": []
   },
   "outputs": [],
   "source": [
    "# Remove datapoints with sequences '-  ', ' -', \" '\" or \"' \". \n",
    "def dash_apost(row):\n",
    "    tst_en = bool(re.search(\"- | -| '|' \", row.En)) \n",
    "    tst_fr = bool(re.search(\"- | -| '|' \", row.Fr))\n",
    "    return tst_en or tst_fr\n",
    "dash_apost_indices = data_clean.apply(dash_apost, axis='columns')\n",
    "data_clean = data_clean.loc[dash_apost_indices == False]"
   ]
  },
  {
   "cell_type": "code",
   "execution_count": 13,
   "id": "c1c5c5c3",
   "metadata": {
    "execution": {
     "iopub.execute_input": "2023-10-05T23:24:38.561378Z",
     "iopub.status.busy": "2023-10-05T23:24:38.560981Z",
     "iopub.status.idle": "2023-10-05T23:24:39.121280Z",
     "shell.execute_reply": "2023-10-05T23:24:39.120492Z"
    },
    "papermill": {
     "duration": 0.575886,
     "end_time": "2023-10-05T23:24:39.123394",
     "exception": false,
     "start_time": "2023-10-05T23:24:38.547508",
     "status": "completed"
    },
    "tags": []
   },
   "outputs": [
    {
     "data": {
      "text/plain": [
       "True"
      ]
     },
     "execution_count": 13,
     "metadata": {},
     "output_type": "execute_result"
    }
   ],
   "source": [
    "# test\n",
    "search = lambda string: bool(re.search(\"- | -| '|' \", string))\n",
    "en_num = data_clean[\"En\"].apply(search)\n",
    "fr_num = data_clean[\"Fr\"].apply(search)\n",
    "idx_ser = en_num + fr_num > 0 \n",
    "data_search = data_clean.loc[idx_ser, [\"En\", \"Fr\"]]\n",
    "len(data_search) == 0"
   ]
  },
  {
   "cell_type": "code",
   "execution_count": 14,
   "id": "27a1416b",
   "metadata": {
    "execution": {
     "iopub.execute_input": "2023-10-05T23:24:39.150243Z",
     "iopub.status.busy": "2023-10-05T23:24:39.149657Z",
     "iopub.status.idle": "2023-10-05T23:24:39.527218Z",
     "shell.execute_reply": "2023-10-05T23:24:39.526066Z"
    },
    "papermill": {
     "duration": 0.393968,
     "end_time": "2023-10-05T23:24:39.529765",
     "exception": false,
     "start_time": "2023-10-05T23:24:39.135797",
     "status": "completed"
    },
    "tags": []
   },
   "outputs": [
    {
     "data": {
      "text/plain": [
       "False"
      ]
     },
     "execution_count": 14,
     "metadata": {},
     "output_type": "execute_result"
    }
   ],
   "source": [
    "# test apost\n",
    "search = lambda string: bool(re.search(\"'\", string.replace(\" '\",\"\") ))\n",
    "en_num = data_clean[\"En\"].apply(search)\n",
    "fr_num = data_clean[\"Fr\"].apply(search)\n",
    "idx_ser = en_num + fr_num > 0 \n",
    "data_search = data_clean.loc[idx_ser, [\"En\", \"Fr\"]]\n",
    "len(data_search) == 0"
   ]
  },
  {
   "cell_type": "code",
   "execution_count": 15,
   "id": "7fbedc37",
   "metadata": {
    "execution": {
     "iopub.execute_input": "2023-10-05T23:24:39.561709Z",
     "iopub.status.busy": "2023-10-05T23:24:39.560987Z",
     "iopub.status.idle": "2023-10-05T23:24:56.495829Z",
     "shell.execute_reply": "2023-10-05T23:24:56.494760Z"
    },
    "papermill": {
     "duration": 16.953772,
     "end_time": "2023-10-05T23:24:56.498065",
     "exception": false,
     "start_time": "2023-10-05T23:24:39.544293",
     "status": "completed"
    },
    "tags": []
   },
   "outputs": [],
   "source": [
    "# Replace unbreakable spaces by spaces.\n",
    "def replace_unbreak(row):\n",
    "    row.En = re.sub('\\xa0|\\xad|\\u2009|\\u200b|\\u202f',' ', row.En)\n",
    "    row.Fr = re.sub('\\xa0|\\xad|\\u2009|\\u200b|\\u202f',' ', row.Fr)\n",
    "    return row\n",
    "data_clean = data_clean.apply(replace_unbreak, axis='columns')"
   ]
  },
  {
   "cell_type": "code",
   "execution_count": 16,
   "id": "e959b6dc",
   "metadata": {
    "execution": {
     "iopub.execute_input": "2023-10-05T23:24:56.523897Z",
     "iopub.status.busy": "2023-10-05T23:24:56.523566Z",
     "iopub.status.idle": "2023-10-05T23:24:56.964360Z",
     "shell.execute_reply": "2023-10-05T23:24:56.963404Z"
    },
    "papermill": {
     "duration": 0.456023,
     "end_time": "2023-10-05T23:24:56.966462",
     "exception": false,
     "start_time": "2023-10-05T23:24:56.510439",
     "status": "completed"
    },
    "tags": []
   },
   "outputs": [
    {
     "data": {
      "text/plain": [
       "True"
      ]
     },
     "execution_count": 16,
     "metadata": {},
     "output_type": "execute_result"
    }
   ],
   "source": [
    "# test\n",
    "search = lambda string: bool(re.search(\"\\xa0|\\xad|\\u2009|\\u200b|\\u202f\", string))\n",
    "en_num = data_clean[\"En\"].apply(search)\n",
    "fr_num = data_clean[\"Fr\"].apply(search)\n",
    "idx_ser = en_num + fr_num > 0 \n",
    "data_search = data_clean.loc[idx_ser, [\"En\", \"Fr\"]]\n",
    "len(data_search) == 0"
   ]
  },
  {
   "cell_type": "code",
   "execution_count": 17,
   "id": "88eaaf9b",
   "metadata": {
    "execution": {
     "iopub.execute_input": "2023-10-05T23:24:56.992773Z",
     "iopub.status.busy": "2023-10-05T23:24:56.992389Z",
     "iopub.status.idle": "2023-10-05T23:25:00.084003Z",
     "shell.execute_reply": "2023-10-05T23:25:00.082885Z"
    },
    "papermill": {
     "duration": 3.107657,
     "end_time": "2023-10-05T23:25:00.086546",
     "exception": false,
     "start_time": "2023-10-05T23:24:56.978889",
     "status": "completed"
    },
    "tags": []
   },
   "outputs": [],
   "source": [
    "# Set of alphabetical characters \n",
    "alpha_set = {'A', 'B', 'C', 'D', 'E', 'F', 'G', 'H', 'I', 'J', 'K', 'L', 'M', 'N', 'O', 'P', 'Q', 'R', 'S', 'T', 'U', 'V', 'W', 'X', 'Y', 'Z', 'a', 'b', 'c', 'd', 'e', 'f', 'g', 'h', 'i', 'j', 'k', 'l', 'm', 'n', 'o', 'p', 'q', 'r', 's', 't', 'u', 'v', 'w', 'x', 'y', 'z', 'À', 'Â', 'Ç', 'É', 'Ê', 'Ô', 'à', 'á', 'â', 'ç', 'è', 'é', 'ê', 'ë', 'î', 'ï', 'ô', 'ù', 'û', 'ü', 'ō', 'œ'}\n",
    "alpha_set_lower = set([letter.lower() for letter in alpha_set])\n",
    "# Set of allowed characters \n",
    "allowed_chars = alpha_set_lower.union([' ','-',\"'\",',','?'])\n",
    "# Remove any data points containing non-alphabetical characters not in { -',?}.\n",
    "def remove_rest(row):\n",
    "    # Sentence contains non-allowed chars?\n",
    "    non_alph_bool_en = len(allowed_chars.union(set(row.En))) > len(allowed_chars)\n",
    "    non_alph_bool_fr = len(allowed_chars.union(set(row.Fr))) > len(allowed_chars)\n",
    "    return non_alph_bool_en or non_alph_bool_fr\n",
    "remove_rest_indices = data_clean.apply(dash_apost, axis='columns')\n",
    "data_clean = data_clean.loc[remove_rest_indices == False]"
   ]
  },
  {
   "cell_type": "code",
   "execution_count": 18,
   "id": "2df7b412",
   "metadata": {
    "execution": {
     "iopub.execute_input": "2023-10-05T23:25:00.112923Z",
     "iopub.status.busy": "2023-10-05T23:25:00.112534Z",
     "iopub.status.idle": "2023-10-05T23:25:00.116792Z",
     "shell.execute_reply": "2023-10-05T23:25:00.116097Z"
    },
    "papermill": {
     "duration": 0.019382,
     "end_time": "2023-10-05T23:25:00.118412",
     "exception": false,
     "start_time": "2023-10-05T23:25:00.099030",
     "status": "completed"
    },
    "tags": []
   },
   "outputs": [],
   "source": [
    "# Set of alphabetical characters \n",
    "alpha_set_lower = set([letter.lower() for letter in alpha_set])\n",
    "# Set of allowed characters \n",
    "allowed_chars = alpha_set_lower.union([' ','-',\"'\",',','?'])"
   ]
  },
  {
   "cell_type": "code",
   "execution_count": 19,
   "id": "d963b8d3",
   "metadata": {
    "execution": {
     "iopub.execute_input": "2023-10-05T23:25:00.145075Z",
     "iopub.status.busy": "2023-10-05T23:25:00.144470Z",
     "iopub.status.idle": "2023-10-05T23:25:03.515417Z",
     "shell.execute_reply": "2023-10-05T23:25:03.514268Z"
    },
    "papermill": {
     "duration": 3.38719,
     "end_time": "2023-10-05T23:25:03.518112",
     "exception": false,
     "start_time": "2023-10-05T23:25:00.130922",
     "status": "completed"
    },
    "tags": []
   },
   "outputs": [],
   "source": [
    "# Remove any data points containing non-alphabetical characters not in { -',?}.\n",
    "def remove_rest(row):\n",
    "    # Sentence contains non-allowed chars?\n",
    "    non_alph_bool_en = len(allowed_chars.union(set(row.En))) > len(allowed_chars)\n",
    "    non_alph_bool_fr = len(allowed_chars.union(set(row.Fr))) > len(allowed_chars)\n",
    "    return non_alph_bool_en or non_alph_bool_fr\n",
    "remove_rest_indices = data_clean.apply(remove_rest, axis='columns')\n",
    "data_clean = data_clean.loc[remove_rest_indices == False]"
   ]
  },
  {
   "cell_type": "code",
   "execution_count": 20,
   "id": "1fcbeeee",
   "metadata": {
    "execution": {
     "iopub.execute_input": "2023-10-05T23:25:03.546367Z",
     "iopub.status.busy": "2023-10-05T23:25:03.545735Z",
     "iopub.status.idle": "2023-10-05T23:25:17.793728Z",
     "shell.execute_reply": "2023-10-05T23:25:17.792624Z"
    },
    "papermill": {
     "duration": 14.264012,
     "end_time": "2023-10-05T23:25:17.795859",
     "exception": false,
     "start_time": "2023-10-05T23:25:03.531847",
     "status": "completed"
    },
    "tags": []
   },
   "outputs": [
    {
     "data": {
      "text/plain": [
       "True"
      ]
     },
     "execution_count": 20,
     "metadata": {},
     "output_type": "execute_result"
    }
   ],
   "source": [
    "# test\n",
    "char_set = set()\n",
    "for idx in range(len(data_clean[\"En\"])): \n",
    "    char_set = char_set.union(set(data_clean.iloc[idx].En))\n",
    "    char_set = char_set.union(set(data_clean.iloc[idx].Fr))\n",
    "char_set.issubset(allowed_chars)"
   ]
  },
  {
   "cell_type": "code",
   "execution_count": 21,
   "id": "8f4dac10",
   "metadata": {
    "execution": {
     "iopub.execute_input": "2023-10-05T23:25:17.823140Z",
     "iopub.status.busy": "2023-10-05T23:25:17.822457Z",
     "iopub.status.idle": "2023-10-05T23:25:43.275311Z",
     "shell.execute_reply": "2023-10-05T23:25:43.274409Z"
    },
    "papermill": {
     "duration": 25.469151,
     "end_time": "2023-10-05T23:25:43.277562",
     "exception": false,
     "start_time": "2023-10-05T23:25:17.808411",
     "status": "completed"
    },
    "tags": []
   },
   "outputs": [],
   "source": [
    "# Removing double and triple spaces\n",
    "def replace_mult_space(row):\n",
    "    row.En = re.sub('   ',' ', row.En) # triple space\n",
    "    row.En = re.sub('  ',' ', row.En) # double space \n",
    "    row.Fr = re.sub('   ',' ', row.Fr) # triple space\n",
    "    row.Fr = re.sub('  ',' ', row.Fr) # double space \n",
    "    return row\n",
    "data_clean = data_clean.apply(replace_mult_space, axis='columns')"
   ]
  },
  {
   "cell_type": "code",
   "execution_count": 22,
   "id": "1e2e8372",
   "metadata": {
    "execution": {
     "iopub.execute_input": "2023-10-05T23:25:43.304914Z",
     "iopub.status.busy": "2023-10-05T23:25:43.304369Z",
     "iopub.status.idle": "2023-10-05T23:25:43.654522Z",
     "shell.execute_reply": "2023-10-05T23:25:43.653329Z"
    },
    "papermill": {
     "duration": 0.366111,
     "end_time": "2023-10-05T23:25:43.656497",
     "exception": false,
     "start_time": "2023-10-05T23:25:43.290386",
     "status": "completed"
    },
    "tags": []
   },
   "outputs": [
    {
     "data": {
      "text/plain": [
       "True"
      ]
     },
     "execution_count": 22,
     "metadata": {},
     "output_type": "execute_result"
    }
   ],
   "source": [
    "# test\n",
    "search = lambda string: bool(re.search(\"  |   |    \", string)) # testing for up to quadruple spaces\n",
    "en_num = data_clean[\"En\"].apply(search)\n",
    "fr_num = data_clean[\"Fr\"].apply(search)\n",
    "idx_ser = en_num + fr_num > 0 \n",
    "data_search = data_clean.loc[idx_ser, [\"En\", \"Fr\"]]\n",
    "len(data_search) == 0"
   ]
  },
  {
   "cell_type": "code",
   "execution_count": 23,
   "id": "eb238ed9",
   "metadata": {
    "execution": {
     "iopub.execute_input": "2023-10-05T23:25:43.683380Z",
     "iopub.status.busy": "2023-10-05T23:25:43.682976Z",
     "iopub.status.idle": "2023-10-05T23:26:08.499774Z",
     "shell.execute_reply": "2023-10-05T23:26:08.498520Z"
    },
    "papermill": {
     "duration": 24.833191,
     "end_time": "2023-10-05T23:26:08.502406",
     "exception": false,
     "start_time": "2023-10-05T23:25:43.669215",
     "status": "completed"
    },
    "tags": []
   },
   "outputs": [],
   "source": [
    "# Removing leading and trailing spaces\n",
    "def replace_lead_trail(row):\n",
    "    row.En = re.sub('^ ','', row.En) # remove leading space\n",
    "    row.En = re.sub(' $','', row.En) # remove trailing space\n",
    "    row.Fr = re.sub('^ ','', row.Fr) # remove leading space\n",
    "    row.Fr = re.sub(' $','', row.Fr) # remove trailing space\n",
    "    return row\n",
    "data_clean = data_clean.apply(replace_lead_trail, axis='columns')"
   ]
  },
  {
   "cell_type": "code",
   "execution_count": 24,
   "id": "93e7e602",
   "metadata": {
    "execution": {
     "iopub.execute_input": "2023-10-05T23:26:08.529804Z",
     "iopub.status.busy": "2023-10-05T23:26:08.529442Z",
     "iopub.status.idle": "2023-10-05T23:26:09.237210Z",
     "shell.execute_reply": "2023-10-05T23:26:09.236085Z"
    },
    "papermill": {
     "duration": 0.724303,
     "end_time": "2023-10-05T23:26:09.239540",
     "exception": false,
     "start_time": "2023-10-05T23:26:08.515237",
     "status": "completed"
    },
    "tags": []
   },
   "outputs": [
    {
     "data": {
      "text/plain": [
       "True"
      ]
     },
     "execution_count": 24,
     "metadata": {},
     "output_type": "execute_result"
    }
   ],
   "source": [
    "# test\n",
    "search = lambda string: bool(re.search(\"^ | $\", string)) # ^ means starts with, $ means ends with \n",
    "en_num = data_clean[\"En\"].apply(search)\n",
    "fr_num = data_clean[\"Fr\"].apply(search)\n",
    "idx_ser = en_num + fr_num > 0 \n",
    "data_search = data_clean.loc[idx_ser, [\"En\", \"Fr\"]]\n",
    "len(data_search) == 0"
   ]
  },
  {
   "cell_type": "code",
   "execution_count": 25,
   "id": "ea0e7b38",
   "metadata": {
    "execution": {
     "iopub.execute_input": "2023-10-05T23:26:09.267783Z",
     "iopub.status.busy": "2023-10-05T23:26:09.267433Z",
     "iopub.status.idle": "2023-10-05T23:26:33.328584Z",
     "shell.execute_reply": "2023-10-05T23:26:33.327348Z"
    },
    "papermill": {
     "duration": 24.078585,
     "end_time": "2023-10-05T23:26:33.331459",
     "exception": false,
     "start_time": "2023-10-05T23:26:09.252874",
     "status": "completed"
    },
    "tags": []
   },
   "outputs": [],
   "source": [
    "# Remove any remaining quotation marks.\n",
    "def remove_quot(row):\n",
    "    row.En = re.sub('\"','', row.En)\n",
    "    row.En = re.sub(\"''\",'', row.En)\n",
    "    row.Fr = re.sub('\"','', row.Fr)\n",
    "    row.Fr = re.sub(\"''\",'', row.Fr)\n",
    "    return row\n",
    "data_clean = data_clean.apply(remove_quot, axis='columns')"
   ]
  },
  {
   "cell_type": "code",
   "execution_count": 26,
   "id": "80795250",
   "metadata": {
    "execution": {
     "iopub.execute_input": "2023-10-05T23:26:33.359712Z",
     "iopub.status.busy": "2023-10-05T23:26:33.359348Z",
     "iopub.status.idle": "2023-10-05T23:26:34.011524Z",
     "shell.execute_reply": "2023-10-05T23:26:34.010495Z"
    },
    "papermill": {
     "duration": 0.669146,
     "end_time": "2023-10-05T23:26:34.013698",
     "exception": false,
     "start_time": "2023-10-05T23:26:33.344552",
     "status": "completed"
    },
    "tags": []
   },
   "outputs": [
    {
     "data": {
      "text/plain": [
       "False"
      ]
     },
     "execution_count": 26,
     "metadata": {},
     "output_type": "execute_result"
    }
   ],
   "source": [
    "# test\n",
    "search1 = lambda string: bool(re.search('\"', string))\n",
    "search2 = lambda string: bool(re.search(\"'\", string))\n",
    "en_num1 = data_clean[\"En\"].apply(search1)\n",
    "fr_num1 = data_clean[\"Fr\"].apply(search1)\n",
    "en_num2 = data_clean[\"En\"].apply(search2)\n",
    "fr_num2 = data_clean[\"Fr\"].apply(search2)\n",
    "idx_ser = en_num1 + fr_num1 + en_num2 + fr_num2 > 0 \n",
    "data_search = data_clean.loc[idx_ser, [\"En\", \"Fr\"]]\n",
    "len(data_search) == 0"
   ]
  },
  {
   "cell_type": "code",
   "execution_count": 27,
   "id": "435b0ca6",
   "metadata": {
    "execution": {
     "iopub.execute_input": "2023-10-05T23:26:34.041371Z",
     "iopub.status.busy": "2023-10-05T23:26:34.041022Z",
     "iopub.status.idle": "2023-10-05T23:26:50.660123Z",
     "shell.execute_reply": "2023-10-05T23:26:50.658759Z"
    },
    "papermill": {
     "duration": 16.636147,
     "end_time": "2023-10-05T23:26:50.662882",
     "exception": false,
     "start_time": "2023-10-05T23:26:34.026735",
     "status": "completed"
    },
    "tags": []
   },
   "outputs": [],
   "source": [
    "# Replace \"-\" by \" - \" and \"'\" by \" ' \"\n",
    "def replace_dash_apost(row):\n",
    "    row.En = row.En.replace('-',' - ').replace(\"'\",\" ' \")\n",
    "    row.Fr = row.Fr.replace('-',' - ').replace(\"'\",\" ' \")\n",
    "    return row\n",
    "data_clean = data_clean.apply(replace_dash_apost, axis='columns')"
   ]
  },
  {
   "cell_type": "code",
   "execution_count": 28,
   "id": "dbf56847",
   "metadata": {
    "execution": {
     "iopub.execute_input": "2023-10-05T23:26:50.690770Z",
     "iopub.status.busy": "2023-10-05T23:26:50.690405Z",
     "iopub.status.idle": "2023-10-05T23:26:51.087563Z",
     "shell.execute_reply": "2023-10-05T23:26:51.086392Z"
    },
    "papermill": {
     "duration": 0.413854,
     "end_time": "2023-10-05T23:26:51.089949",
     "exception": false,
     "start_time": "2023-10-05T23:26:50.676095",
     "status": "completed"
    },
    "tags": []
   },
   "outputs": [
    {
     "data": {
      "text/plain": [
       "True"
      ]
     },
     "execution_count": 28,
     "metadata": {},
     "output_type": "execute_result"
    }
   ],
   "source": [
    "# test dash\n",
    "search = lambda string: bool(re.search('-', string.replace(' -','') ))\n",
    "en_num = data_clean[\"En\"].apply(search)\n",
    "fr_num = data_clean[\"Fr\"].apply(search)\n",
    "idx_ser = en_num + fr_num > 0 \n",
    "data_search = data_clean.loc[idx_ser, [\"En\", \"Fr\"]]\n",
    "len(data_search) == 0"
   ]
  },
  {
   "cell_type": "markdown",
   "id": "63e1a30b",
   "metadata": {
    "papermill": {
     "duration": 0.013251,
     "end_time": "2023-10-05T23:26:51.116837",
     "exception": false,
     "start_time": "2023-10-05T23:26:51.103586",
     "status": "completed"
    },
    "tags": []
   },
   "source": [
    "### Duplicates and long sentences"
   ]
  },
  {
   "cell_type": "markdown",
   "id": "3a97b938",
   "metadata": {
    "papermill": {
     "duration": 0.012924,
     "end_time": "2023-10-05T23:26:51.143643",
     "exception": false,
     "start_time": "2023-10-05T23:26:51.130719",
     "status": "completed"
    },
    "tags": []
   },
   "source": [
    "#### Exploring sentence length "
   ]
  },
  {
   "cell_type": "markdown",
   "id": "8ccf2a17",
   "metadata": {
    "papermill": {
     "duration": 0.014231,
     "end_time": "2023-10-05T23:26:51.171688",
     "exception": false,
     "start_time": "2023-10-05T23:26:51.157457",
     "status": "completed"
    },
    "tags": []
   },
   "source": [
    "There are some quite long sentences in the dataset, e.g.:"
   ]
  },
  {
   "cell_type": "code",
   "execution_count": 29,
   "id": "58c5cb3f",
   "metadata": {
    "execution": {
     "iopub.execute_input": "2023-10-05T23:26:51.199804Z",
     "iopub.status.busy": "2023-10-05T23:26:51.199429Z",
     "iopub.status.idle": "2023-10-05T23:26:51.206072Z",
     "shell.execute_reply": "2023-10-05T23:26:51.205036Z"
    },
    "papermill": {
     "duration": 0.023194,
     "end_time": "2023-10-05T23:26:51.208166",
     "exception": false,
     "start_time": "2023-10-05T23:26:51.184972",
     "status": "completed"
    },
    "tags": []
   },
   "outputs": [
    {
     "data": {
      "text/plain": [
       "\"if someone who doesn ' t know your background says that you sound like a native speaker , it means they probably noticed something about your speaking that made them realize you weren ' t a native speaker in other words , you don ' t really sound like a native speaker\""
      ]
     },
     "execution_count": 29,
     "metadata": {},
     "output_type": "execute_result"
    }
   ],
   "source": [
    "data_clean.iloc[-1].En"
   ]
  },
  {
   "cell_type": "markdown",
   "id": "7787a75c",
   "metadata": {
    "papermill": {
     "duration": 0.013563,
     "end_time": "2023-10-05T23:26:51.235545",
     "exception": false,
     "start_time": "2023-10-05T23:26:51.221982",
     "status": "completed"
    },
    "tags": []
   },
   "source": [
    "Length of above sentence:"
   ]
  },
  {
   "cell_type": "code",
   "execution_count": 30,
   "id": "d35ea686",
   "metadata": {
    "execution": {
     "iopub.execute_input": "2023-10-05T23:26:51.264676Z",
     "iopub.status.busy": "2023-10-05T23:26:51.264121Z",
     "iopub.status.idle": "2023-10-05T23:26:51.269262Z",
     "shell.execute_reply": "2023-10-05T23:26:51.268229Z"
    },
    "papermill": {
     "duration": 0.021582,
     "end_time": "2023-10-05T23:26:51.271196",
     "exception": false,
     "start_time": "2023-10-05T23:26:51.249614",
     "status": "completed"
    },
    "tags": []
   },
   "outputs": [
    {
     "name": "stdout",
     "output_type": "stream",
     "text": [
      "52 words\n"
     ]
    }
   ],
   "source": [
    "print(f\"{len(data_clean.iloc[-1].En.split(' '))} words\")"
   ]
  },
  {
   "cell_type": "markdown",
   "id": "025a0279",
   "metadata": {
    "papermill": {
     "duration": 0.013883,
     "end_time": "2023-10-05T23:26:51.298688",
     "exception": false,
     "start_time": "2023-10-05T23:26:51.284805",
     "status": "completed"
    },
    "tags": []
   },
   "source": [
    "Computing lengths of the sentences in the dataset:"
   ]
  },
  {
   "cell_type": "code",
   "execution_count": 31,
   "id": "e48b3904",
   "metadata": {
    "execution": {
     "iopub.execute_input": "2023-10-05T23:26:51.327675Z",
     "iopub.status.busy": "2023-10-05T23:26:51.326483Z",
     "iopub.status.idle": "2023-10-05T23:27:08.064785Z",
     "shell.execute_reply": "2023-10-05T23:27:08.063691Z"
    },
    "papermill": {
     "duration": 16.755758,
     "end_time": "2023-10-05T23:27:08.067782",
     "exception": false,
     "start_time": "2023-10-05T23:26:51.312024",
     "status": "completed"
    },
    "tags": []
   },
   "outputs": [],
   "source": [
    "def len_sents(row):\n",
    "    row.En = len(row.En.split(' '))\n",
    "    row.Fr = len(row.Fr.split(' '))\n",
    "    return row\n",
    "lengths_df = data_clean.copy()\n",
    "lengths_df = lengths_df.apply(len_sents, axis = 'columns')"
   ]
  },
  {
   "cell_type": "code",
   "execution_count": 32,
   "id": "08f53eb6",
   "metadata": {
    "execution": {
     "iopub.execute_input": "2023-10-05T23:27:08.097979Z",
     "iopub.status.busy": "2023-10-05T23:27:08.096982Z",
     "iopub.status.idle": "2023-10-05T23:27:08.106538Z",
     "shell.execute_reply": "2023-10-05T23:27:08.105405Z"
    },
    "papermill": {
     "duration": 0.026864,
     "end_time": "2023-10-05T23:27:08.108784",
     "exception": false,
     "start_time": "2023-10-05T23:27:08.081920",
     "status": "completed"
    },
    "tags": []
   },
   "outputs": [
    {
     "data": {
      "text/html": [
       "<div>\n",
       "<style scoped>\n",
       "    .dataframe tbody tr th:only-of-type {\n",
       "        vertical-align: middle;\n",
       "    }\n",
       "\n",
       "    .dataframe tbody tr th {\n",
       "        vertical-align: top;\n",
       "    }\n",
       "\n",
       "    .dataframe thead th {\n",
       "        text-align: right;\n",
       "    }\n",
       "</style>\n",
       "<table border=\"1\" class=\"dataframe\">\n",
       "  <thead>\n",
       "    <tr style=\"text-align: right;\">\n",
       "      <th></th>\n",
       "      <th>En</th>\n",
       "      <th>Fr</th>\n",
       "    </tr>\n",
       "  </thead>\n",
       "  <tbody>\n",
       "    <tr>\n",
       "      <th>0</th>\n",
       "      <td>1</td>\n",
       "      <td>1</td>\n",
       "    </tr>\n",
       "    <tr>\n",
       "      <th>1</th>\n",
       "      <td>1</td>\n",
       "      <td>1</td>\n",
       "    </tr>\n",
       "    <tr>\n",
       "      <th>2</th>\n",
       "      <td>1</td>\n",
       "      <td>1</td>\n",
       "    </tr>\n",
       "    <tr>\n",
       "      <th>3</th>\n",
       "      <td>1</td>\n",
       "      <td>1</td>\n",
       "    </tr>\n",
       "    <tr>\n",
       "      <th>4</th>\n",
       "      <td>1</td>\n",
       "      <td>1</td>\n",
       "    </tr>\n",
       "    <tr>\n",
       "      <th>...</th>\n",
       "      <td>...</td>\n",
       "      <td>...</td>\n",
       "    </tr>\n",
       "    <tr>\n",
       "      <th>177203</th>\n",
       "      <td>35</td>\n",
       "      <td>43</td>\n",
       "    </tr>\n",
       "    <tr>\n",
       "      <th>177206</th>\n",
       "      <td>34</td>\n",
       "      <td>35</td>\n",
       "    </tr>\n",
       "    <tr>\n",
       "      <th>177207</th>\n",
       "      <td>42</td>\n",
       "      <td>53</td>\n",
       "    </tr>\n",
       "    <tr>\n",
       "      <th>177208</th>\n",
       "      <td>46</td>\n",
       "      <td>58</td>\n",
       "    </tr>\n",
       "    <tr>\n",
       "      <th>177209</th>\n",
       "      <td>52</td>\n",
       "      <td>65</td>\n",
       "    </tr>\n",
       "  </tbody>\n",
       "</table>\n",
       "<p>174500 rows × 2 columns</p>\n",
       "</div>"
      ],
      "text/plain": [
       "        En  Fr\n",
       "0        1   1\n",
       "1        1   1\n",
       "2        1   1\n",
       "3        1   1\n",
       "4        1   1\n",
       "...     ..  ..\n",
       "177203  35  43\n",
       "177206  34  35\n",
       "177207  42  53\n",
       "177208  46  58\n",
       "177209  52  65\n",
       "\n",
       "[174500 rows x 2 columns]"
      ]
     },
     "execution_count": 32,
     "metadata": {},
     "output_type": "execute_result"
    }
   ],
   "source": [
    "lengths_df"
   ]
  },
  {
   "cell_type": "code",
   "execution_count": 33,
   "id": "56876701",
   "metadata": {
    "execution": {
     "iopub.execute_input": "2023-10-05T23:27:08.138419Z",
     "iopub.status.busy": "2023-10-05T23:27:08.138055Z",
     "iopub.status.idle": "2023-10-05T23:27:08.606860Z",
     "shell.execute_reply": "2023-10-05T23:27:08.606056Z"
    },
    "papermill": {
     "duration": 0.486033,
     "end_time": "2023-10-05T23:27:08.608922",
     "exception": false,
     "start_time": "2023-10-05T23:27:08.122889",
     "status": "completed"
    },
    "tags": []
   },
   "outputs": [
    {
     "data": {
      "image/png": "[encoded data removed]",
      "text/plain": [
       "<Figure size 1400x700 with 1 Axes>"
      ]
     },
     "metadata": {},
     "output_type": "display_data"
    }
   ],
   "source": [
    "fig, ax = plt.subplots(figsize = (14,7))\n",
    "\n",
    "a_heights, a_bins = np.histogram(lengths_df.En, bins = 50)\n",
    "b_heights, b_bins = np.histogram(lengths_df.Fr, bins=a_bins)\n",
    "\n",
    "width = (a_bins[1] - a_bins[0])/3\n",
    "\n",
    "ax.bar(a_bins[:-1], a_heights, width=width, facecolor='cornflowerblue', label = 'English')\n",
    "ax.bar(b_bins[:-1]+width, b_heights, width=width, facecolor='seagreen', label = 'French')\n",
    "ax.set_ylabel('Number of sentences')\n",
    "ax.set_xlabel('Number of words')\n",
    "ax.legend()\n",
    "plt.show()"
   ]
  },
  {
   "cell_type": "markdown",
   "id": "46276c4f",
   "metadata": {
    "papermill": {
     "duration": 0.014483,
     "end_time": "2023-10-05T23:27:08.637811",
     "exception": false,
     "start_time": "2023-10-05T23:27:08.623328",
     "status": "completed"
    },
    "tags": []
   },
   "source": [
    "6 - 8 seems like a good number of maximum words to take."
   ]
  },
  {
   "cell_type": "markdown",
   "id": "7c9314e0",
   "metadata": {
    "papermill": {
     "duration": 0.014736,
     "end_time": "2023-10-05T23:27:08.667501",
     "exception": false,
     "start_time": "2023-10-05T23:27:08.652765",
     "status": "completed"
    },
    "tags": []
   },
   "source": [
    "### Removing duplicates and clipping sentence size"
   ]
  },
  {
   "cell_type": "markdown",
   "id": "da5e4c87",
   "metadata": {
    "papermill": {
     "duration": 0.014025,
     "end_time": "2023-10-05T23:27:08.695953",
     "exception": false,
     "start_time": "2023-10-05T23:27:08.681928",
     "status": "completed"
    },
    "tags": []
   },
   "source": [
    "#### Duplicates"
   ]
  },
  {
   "cell_type": "markdown",
   "id": "5fc9c36e",
   "metadata": {
    "papermill": {
     "duration": 0.01406,
     "end_time": "2023-10-05T23:27:08.724231",
     "exception": false,
     "start_time": "2023-10-05T23:27:08.710171",
     "status": "completed"
    },
    "tags": []
   },
   "source": [
    "There are many duplicates in the dataset, in the sense of sets of datapoints with the same English sentence translated in multiple different ways. \n",
    "\n",
    "In such cases, we shall keep only the first translation."
   ]
  },
  {
   "cell_type": "code",
   "execution_count": 34,
   "id": "ee074ca4",
   "metadata": {
    "execution": {
     "iopub.execute_input": "2023-10-05T23:27:08.755560Z",
     "iopub.status.busy": "2023-10-05T23:27:08.754587Z",
     "iopub.status.idle": "2023-10-05T23:27:08.806530Z",
     "shell.execute_reply": "2023-10-05T23:27:08.805403Z"
    },
    "papermill": {
     "duration": 0.070304,
     "end_time": "2023-10-05T23:27:08.808989",
     "exception": false,
     "start_time": "2023-10-05T23:27:08.738685",
     "status": "completed"
    },
    "tags": []
   },
   "outputs": [],
   "source": [
    "data_nodup = data_clean.drop_duplicates(subset = ['En'], keep = 'first')"
   ]
  },
  {
   "cell_type": "code",
   "execution_count": 35,
   "id": "5b14ab69",
   "metadata": {
    "execution": {
     "iopub.execute_input": "2023-10-05T23:27:08.841930Z",
     "iopub.status.busy": "2023-10-05T23:27:08.841598Z",
     "iopub.status.idle": "2023-10-05T23:27:08.851800Z",
     "shell.execute_reply": "2023-10-05T23:27:08.850618Z"
    },
    "papermill": {
     "duration": 0.02945,
     "end_time": "2023-10-05T23:27:08.853928",
     "exception": false,
     "start_time": "2023-10-05T23:27:08.824478",
     "status": "completed"
    },
    "tags": []
   },
   "outputs": [
    {
     "data": {
      "text/html": [
       "<div>\n",
       "<style scoped>\n",
       "    .dataframe tbody tr th:only-of-type {\n",
       "        vertical-align: middle;\n",
       "    }\n",
       "\n",
       "    .dataframe tbody tr th {\n",
       "        vertical-align: top;\n",
       "    }\n",
       "\n",
       "    .dataframe thead th {\n",
       "        text-align: right;\n",
       "    }\n",
       "</style>\n",
       "<table border=\"1\" class=\"dataframe\">\n",
       "  <thead>\n",
       "    <tr style=\"text-align: right;\">\n",
       "      <th></th>\n",
       "      <th>En</th>\n",
       "      <th>Fr</th>\n",
       "    </tr>\n",
       "  </thead>\n",
       "  <tbody>\n",
       "    <tr>\n",
       "      <th>0</th>\n",
       "      <td>go</td>\n",
       "      <td>va</td>\n",
       "    </tr>\n",
       "    <tr>\n",
       "      <th>1</th>\n",
       "      <td>hi</td>\n",
       "      <td>salut</td>\n",
       "    </tr>\n",
       "    <tr>\n",
       "      <th>3</th>\n",
       "      <td>run</td>\n",
       "      <td>cours</td>\n",
       "    </tr>\n",
       "    <tr>\n",
       "      <th>5</th>\n",
       "      <td>who ?</td>\n",
       "      <td>qui ?</td>\n",
       "    </tr>\n",
       "    <tr>\n",
       "      <th>6</th>\n",
       "      <td>wow</td>\n",
       "      <td>ça alors</td>\n",
       "    </tr>\n",
       "    <tr>\n",
       "      <th>...</th>\n",
       "      <td>...</td>\n",
       "      <td>...</td>\n",
       "    </tr>\n",
       "    <tr>\n",
       "      <th>177203</th>\n",
       "      <td>there are four main causes of alcohol - relate...</td>\n",
       "      <td>il y a quatre causes principales de décès liés...</td>\n",
       "    </tr>\n",
       "    <tr>\n",
       "      <th>177206</th>\n",
       "      <td>a carbon footprint is the amount of carbon dio...</td>\n",
       "      <td>une empreinte carbone est la somme de pollutio...</td>\n",
       "    </tr>\n",
       "    <tr>\n",
       "      <th>177207</th>\n",
       "      <td>death is something that we ' re often discoura...</td>\n",
       "      <td>la mort est une chose qu ' on nous décourage s...</td>\n",
       "    </tr>\n",
       "    <tr>\n",
       "      <th>177208</th>\n",
       "      <td>since there are usually multiple websites on a...</td>\n",
       "      <td>puisqu ' il y a de multiples sites web sur cha...</td>\n",
       "    </tr>\n",
       "    <tr>\n",
       "      <th>177209</th>\n",
       "      <td>if someone who doesn ' t know your background ...</td>\n",
       "      <td>si quelqu ' un qui ne connaît pas vos antécéde...</td>\n",
       "    </tr>\n",
       "  </tbody>\n",
       "</table>\n",
       "<p>122150 rows × 2 columns</p>\n",
       "</div>"
      ],
      "text/plain": [
       "                                                       En  \\\n",
       "0                                                      go   \n",
       "1                                                      hi   \n",
       "3                                                     run   \n",
       "5                                                   who ?   \n",
       "6                                                     wow   \n",
       "...                                                   ...   \n",
       "177203  there are four main causes of alcohol - relate...   \n",
       "177206  a carbon footprint is the amount of carbon dio...   \n",
       "177207  death is something that we ' re often discoura...   \n",
       "177208  since there are usually multiple websites on a...   \n",
       "177209  if someone who doesn ' t know your background ...   \n",
       "\n",
       "                                                       Fr  \n",
       "0                                                      va  \n",
       "1                                                   salut  \n",
       "3                                                   cours  \n",
       "5                                                   qui ?  \n",
       "6                                                ça alors  \n",
       "...                                                   ...  \n",
       "177203  il y a quatre causes principales de décès liés...  \n",
       "177206  une empreinte carbone est la somme de pollutio...  \n",
       "177207  la mort est une chose qu ' on nous décourage s...  \n",
       "177208  puisqu ' il y a de multiples sites web sur cha...  \n",
       "177209  si quelqu ' un qui ne connaît pas vos antécéde...  \n",
       "\n",
       "[122150 rows x 2 columns]"
      ]
     },
     "execution_count": 35,
     "metadata": {},
     "output_type": "execute_result"
    }
   ],
   "source": [
    "data_nodup"
   ]
  },
  {
   "cell_type": "markdown",
   "id": "a4336482",
   "metadata": {
    "papermill": {
     "duration": 0.01416,
     "end_time": "2023-10-05T23:27:08.882795",
     "exception": false,
     "start_time": "2023-10-05T23:27:08.868635",
     "status": "completed"
    },
    "tags": []
   },
   "source": [
    "#### Max sentence length"
   ]
  },
  {
   "cell_type": "code",
   "execution_count": 36,
   "id": "cddc0ec7",
   "metadata": {
    "execution": {
     "iopub.execute_input": "2023-10-05T23:27:08.913988Z",
     "iopub.status.busy": "2023-10-05T23:27:08.913420Z",
     "iopub.status.idle": "2023-10-05T23:27:08.917953Z",
     "shell.execute_reply": "2023-10-05T23:27:08.916900Z"
    },
    "papermill": {
     "duration": 0.022646,
     "end_time": "2023-10-05T23:27:08.919998",
     "exception": false,
     "start_time": "2023-10-05T23:27:08.897352",
     "status": "completed"
    },
    "tags": []
   },
   "outputs": [],
   "source": [
    "# Maximum sentence length \n",
    "N = 7"
   ]
  },
  {
   "cell_type": "code",
   "execution_count": 37,
   "id": "0bb5c200",
   "metadata": {
    "execution": {
     "iopub.execute_input": "2023-10-05T23:27:08.951184Z",
     "iopub.status.busy": "2023-10-05T23:27:08.950232Z",
     "iopub.status.idle": "2023-10-05T23:27:10.958949Z",
     "shell.execute_reply": "2023-10-05T23:27:10.957752Z"
    },
    "papermill": {
     "duration": 2.026775,
     "end_time": "2023-10-05T23:27:10.961467",
     "exception": false,
     "start_time": "2023-10-05T23:27:08.934692",
     "status": "completed"
    },
    "tags": []
   },
   "outputs": [],
   "source": [
    "# Max length of sentence pair\n",
    "max_len = lambda row: max([len(row.En.split(' ')), len(row.Fr.split(' '))])\n",
    "maxlen = data_nodup.copy()\n",
    "maxlen = maxlen.apply(max_len, axis = 'columns')"
   ]
  },
  {
   "cell_type": "code",
   "execution_count": 38,
   "id": "0985850b",
   "metadata": {
    "execution": {
     "iopub.execute_input": "2023-10-05T23:27:10.993186Z",
     "iopub.status.busy": "2023-10-05T23:27:10.992833Z",
     "iopub.status.idle": "2023-10-05T23:27:11.003015Z",
     "shell.execute_reply": "2023-10-05T23:27:11.002019Z"
    },
    "papermill": {
     "duration": 0.028819,
     "end_time": "2023-10-05T23:27:11.005400",
     "exception": false,
     "start_time": "2023-10-05T23:27:10.976581",
     "status": "completed"
    },
    "tags": []
   },
   "outputs": [],
   "source": [
    "data_fin = data_nodup.loc[maxlen <= N, :]"
   ]
  },
  {
   "cell_type": "code",
   "execution_count": 39,
   "id": "af28e53e",
   "metadata": {
    "execution": {
     "iopub.execute_input": "2023-10-05T23:27:11.037596Z",
     "iopub.status.busy": "2023-10-05T23:27:11.036997Z",
     "iopub.status.idle": "2023-10-05T23:27:11.047624Z",
     "shell.execute_reply": "2023-10-05T23:27:11.046654Z"
    },
    "papermill": {
     "duration": 0.028916,
     "end_time": "2023-10-05T23:27:11.049512",
     "exception": false,
     "start_time": "2023-10-05T23:27:11.020596",
     "status": "completed"
    },
    "tags": []
   },
   "outputs": [
    {
     "data": {
      "text/html": [
       "<div>\n",
       "<style scoped>\n",
       "    .dataframe tbody tr th:only-of-type {\n",
       "        vertical-align: middle;\n",
       "    }\n",
       "\n",
       "    .dataframe tbody tr th {\n",
       "        vertical-align: top;\n",
       "    }\n",
       "\n",
       "    .dataframe thead th {\n",
       "        text-align: right;\n",
       "    }\n",
       "</style>\n",
       "<table border=\"1\" class=\"dataframe\">\n",
       "  <thead>\n",
       "    <tr style=\"text-align: right;\">\n",
       "      <th></th>\n",
       "      <th>En</th>\n",
       "      <th>Fr</th>\n",
       "    </tr>\n",
       "  </thead>\n",
       "  <tbody>\n",
       "    <tr>\n",
       "      <th>0</th>\n",
       "      <td>go</td>\n",
       "      <td>va</td>\n",
       "    </tr>\n",
       "    <tr>\n",
       "      <th>1</th>\n",
       "      <td>hi</td>\n",
       "      <td>salut</td>\n",
       "    </tr>\n",
       "    <tr>\n",
       "      <th>3</th>\n",
       "      <td>run</td>\n",
       "      <td>cours</td>\n",
       "    </tr>\n",
       "    <tr>\n",
       "      <th>5</th>\n",
       "      <td>who ?</td>\n",
       "      <td>qui ?</td>\n",
       "    </tr>\n",
       "    <tr>\n",
       "      <th>6</th>\n",
       "      <td>wow</td>\n",
       "      <td>ça alors</td>\n",
       "    </tr>\n",
       "    <tr>\n",
       "      <th>7</th>\n",
       "      <td>fire</td>\n",
       "      <td>au feu</td>\n",
       "    </tr>\n",
       "    <tr>\n",
       "      <th>8</th>\n",
       "      <td>help</td>\n",
       "      <td>à l ' aide</td>\n",
       "    </tr>\n",
       "    <tr>\n",
       "      <th>9</th>\n",
       "      <td>jump</td>\n",
       "      <td>saute</td>\n",
       "    </tr>\n",
       "    <tr>\n",
       "      <th>10</th>\n",
       "      <td>stop</td>\n",
       "      <td>ça suffit</td>\n",
       "    </tr>\n",
       "    <tr>\n",
       "      <th>13</th>\n",
       "      <td>wait</td>\n",
       "      <td>attends</td>\n",
       "    </tr>\n",
       "    <tr>\n",
       "      <th>15</th>\n",
       "      <td>go on</td>\n",
       "      <td>poursuis</td>\n",
       "    </tr>\n",
       "    <tr>\n",
       "      <th>18</th>\n",
       "      <td>hello</td>\n",
       "      <td>bonjour</td>\n",
       "    </tr>\n",
       "    <tr>\n",
       "      <th>20</th>\n",
       "      <td>i see</td>\n",
       "      <td>je comprends</td>\n",
       "    </tr>\n",
       "    <tr>\n",
       "      <th>21</th>\n",
       "      <td>i try</td>\n",
       "      <td>j ' essaye</td>\n",
       "    </tr>\n",
       "    <tr>\n",
       "      <th>22</th>\n",
       "      <td>i won</td>\n",
       "      <td>j ' ai gagné</td>\n",
       "    </tr>\n",
       "    <tr>\n",
       "      <th>25</th>\n",
       "      <td>oh no</td>\n",
       "      <td>oh non</td>\n",
       "    </tr>\n",
       "    <tr>\n",
       "      <th>26</th>\n",
       "      <td>attack</td>\n",
       "      <td>attaque</td>\n",
       "    </tr>\n",
       "    <tr>\n",
       "      <th>28</th>\n",
       "      <td>cheers</td>\n",
       "      <td>santé</td>\n",
       "    </tr>\n",
       "    <tr>\n",
       "      <th>32</th>\n",
       "      <td>get up</td>\n",
       "      <td>lève - toi</td>\n",
       "    </tr>\n",
       "    <tr>\n",
       "      <th>33</th>\n",
       "      <td>go now</td>\n",
       "      <td>va , maintenant</td>\n",
       "    </tr>\n",
       "    <tr>\n",
       "      <th>36</th>\n",
       "      <td>got it</td>\n",
       "      <td>j ' ai pigé</td>\n",
       "    </tr>\n",
       "    <tr>\n",
       "      <th>38</th>\n",
       "      <td>got it ?</td>\n",
       "      <td>pigé ?</td>\n",
       "    </tr>\n",
       "    <tr>\n",
       "      <th>41</th>\n",
       "      <td>hop in</td>\n",
       "      <td>monte</td>\n",
       "    </tr>\n",
       "    <tr>\n",
       "      <th>43</th>\n",
       "      <td>hug me</td>\n",
       "      <td>serre - moi dans tes bras</td>\n",
       "    </tr>\n",
       "    <tr>\n",
       "      <th>45</th>\n",
       "      <td>i fell</td>\n",
       "      <td>je suis tombée</td>\n",
       "    </tr>\n",
       "    <tr>\n",
       "      <th>47</th>\n",
       "      <td>i know</td>\n",
       "      <td>je sais</td>\n",
       "    </tr>\n",
       "    <tr>\n",
       "      <th>48</th>\n",
       "      <td>i left</td>\n",
       "      <td>je suis parti</td>\n",
       "    </tr>\n",
       "    <tr>\n",
       "      <th>50</th>\n",
       "      <td>i lied</td>\n",
       "      <td>j ' ai menti</td>\n",
       "    </tr>\n",
       "    <tr>\n",
       "      <th>51</th>\n",
       "      <td>i lost</td>\n",
       "      <td>j ' ai perdu</td>\n",
       "    </tr>\n",
       "    <tr>\n",
       "      <th>54</th>\n",
       "      <td>i ' m ok</td>\n",
       "      <td>je vais bien</td>\n",
       "    </tr>\n",
       "    <tr>\n",
       "      <th>56</th>\n",
       "      <td>listen</td>\n",
       "      <td>écoutez</td>\n",
       "    </tr>\n",
       "    <tr>\n",
       "      <th>57</th>\n",
       "      <td>no way</td>\n",
       "      <td>c ' est pas possible</td>\n",
       "    </tr>\n",
       "    <tr>\n",
       "      <th>66</th>\n",
       "      <td>really ?</td>\n",
       "      <td>vraiment ?</td>\n",
       "    </tr>\n",
       "    <tr>\n",
       "      <th>69</th>\n",
       "      <td>thanks</td>\n",
       "      <td>merci</td>\n",
       "    </tr>\n",
       "    <tr>\n",
       "      <th>70</th>\n",
       "      <td>we try</td>\n",
       "      <td>on essaye</td>\n",
       "    </tr>\n",
       "    <tr>\n",
       "      <th>71</th>\n",
       "      <td>we won</td>\n",
       "      <td>nous avons gagné</td>\n",
       "    </tr>\n",
       "    <tr>\n",
       "      <th>75</th>\n",
       "      <td>ask tom</td>\n",
       "      <td>demande à tom</td>\n",
       "    </tr>\n",
       "    <tr>\n",
       "      <th>76</th>\n",
       "      <td>awesome</td>\n",
       "      <td>fantastique</td>\n",
       "    </tr>\n",
       "    <tr>\n",
       "      <th>77</th>\n",
       "      <td>be calm</td>\n",
       "      <td>sois calme</td>\n",
       "    </tr>\n",
       "    <tr>\n",
       "      <th>80</th>\n",
       "      <td>be cool</td>\n",
       "      <td>sois détendu</td>\n",
       "    </tr>\n",
       "  </tbody>\n",
       "</table>\n",
       "</div>"
      ],
      "text/plain": [
       "          En                         Fr\n",
       "0         go                         va\n",
       "1         hi                      salut\n",
       "3        run                      cours\n",
       "5      who ?                      qui ?\n",
       "6        wow                   ça alors\n",
       "7       fire                     au feu\n",
       "8       help                 à l ' aide\n",
       "9       jump                      saute\n",
       "10      stop                  ça suffit\n",
       "13      wait                    attends\n",
       "15     go on                   poursuis\n",
       "18     hello                    bonjour\n",
       "20     i see               je comprends\n",
       "21     i try                 j ' essaye\n",
       "22     i won               j ' ai gagné\n",
       "25     oh no                     oh non\n",
       "26    attack                    attaque\n",
       "28    cheers                      santé\n",
       "32    get up                 lève - toi\n",
       "33    go now            va , maintenant\n",
       "36    got it                j ' ai pigé\n",
       "38  got it ?                     pigé ?\n",
       "41    hop in                      monte\n",
       "43    hug me  serre - moi dans tes bras\n",
       "45    i fell             je suis tombée\n",
       "47    i know                    je sais\n",
       "48    i left              je suis parti\n",
       "50    i lied               j ' ai menti\n",
       "51    i lost               j ' ai perdu\n",
       "54  i ' m ok               je vais bien\n",
       "56    listen                    écoutez\n",
       "57    no way       c ' est pas possible\n",
       "66  really ?                 vraiment ?\n",
       "69    thanks                      merci\n",
       "70    we try                  on essaye\n",
       "71    we won           nous avons gagné\n",
       "75   ask tom              demande à tom\n",
       "76   awesome                fantastique\n",
       "77   be calm                 sois calme\n",
       "80   be cool               sois détendu"
      ]
     },
     "execution_count": 39,
     "metadata": {},
     "output_type": "execute_result"
    }
   ],
   "source": [
    "data_fin.head(40)"
   ]
  },
  {
   "cell_type": "code",
   "execution_count": 40,
   "id": "f35f134f",
   "metadata": {
    "execution": {
     "iopub.execute_input": "2023-10-05T23:27:11.081422Z",
     "iopub.status.busy": "2023-10-05T23:27:11.081010Z",
     "iopub.status.idle": "2023-10-05T23:27:11.276028Z",
     "shell.execute_reply": "2023-10-05T23:27:11.274802Z"
    },
    "papermill": {
     "duration": 0.213997,
     "end_time": "2023-10-05T23:27:11.278501",
     "exception": false,
     "start_time": "2023-10-05T23:27:11.064504",
     "status": "completed"
    },
    "tags": []
   },
   "outputs": [],
   "source": [
    "# Saving the final cleaned dataset\n",
    "data_fin.to_csv(\"/kaggle/working/EnFr_cleaned.txt\")"
   ]
  },
  {
   "cell_type": "markdown",
   "id": "d05bfc25",
   "metadata": {
    "papermill": {
     "duration": 0.014834,
     "end_time": "2023-10-05T23:27:11.308675",
     "exception": false,
     "start_time": "2023-10-05T23:27:11.293841",
     "status": "completed"
    },
    "tags": []
   },
   "source": [
    "## French word-list"
   ]
  },
  {
   "cell_type": "markdown",
   "id": "8e98d2b6",
   "metadata": {
    "papermill": {
     "duration": 0.01713,
     "end_time": "2023-10-05T23:27:11.340992",
     "exception": false,
     "start_time": "2023-10-05T23:27:11.323862",
     "status": "completed"
    },
    "tags": []
   },
   "source": [
    "The output of the transformer shall be a discrete probability distribution over a list of French words encountered in the dataset.\n",
    "\n",
    "We shall limit the length of this word-list to make training faster. French words that aren't in the word-list but are still in the dataset shall be replace by the \"unkown token\" `<unk>`.  \n",
    "\n",
    "We need to find a length for the word-list which finds a good balance between not being to big, but still most sentences in the dataset not having the unknown token. "
   ]
  },
  {
   "cell_type": "markdown",
   "id": "8767b5c7",
   "metadata": {
    "papermill": {
     "duration": 0.015992,
     "end_time": "2023-10-05T23:27:11.372773",
     "exception": false,
     "start_time": "2023-10-05T23:27:11.356781",
     "status": "completed"
    },
    "tags": []
   },
   "source": [
    "#### Exploring word-list size"
   ]
  },
  {
   "cell_type": "markdown",
   "id": "2f32d8f1",
   "metadata": {
    "papermill": {
     "duration": 0.015048,
     "end_time": "2023-10-05T23:27:11.404237",
     "exception": false,
     "start_time": "2023-10-05T23:27:11.389189",
     "status": "completed"
    },
    "tags": []
   },
   "source": [
    "First, we shall construct a dictionary of French words, along with the number of times it appears inside the French column of the dataset."
   ]
  },
  {
   "cell_type": "code",
   "execution_count": 41,
   "id": "b3e12ce1",
   "metadata": {
    "execution": {
     "iopub.execute_input": "2023-10-05T23:27:11.436608Z",
     "iopub.status.busy": "2023-10-05T23:27:11.436025Z",
     "iopub.status.idle": "2023-10-05T23:30:06.601032Z",
     "shell.execute_reply": "2023-10-05T23:30:06.599603Z"
    },
    "papermill": {
     "duration": 175.183899,
     "end_time": "2023-10-05T23:30:06.603518",
     "exception": false,
     "start_time": "2023-10-05T23:27:11.419619",
     "status": "completed"
    },
    "tags": []
   },
   "outputs": [
    {
     "name": "stderr",
     "output_type": "stream",
     "text": [
      "100%|██████████| 53869/53869 [02:55<00:00, 307.55it/s]\n"
     ]
    }
   ],
   "source": [
    "counter = Counter()\n",
    "for i in tqdm(range(len(data_fin))):\n",
    "    counter = counter + Counter(data_fin.Fr.iloc[i].split())"
   ]
  },
  {
   "cell_type": "code",
   "execution_count": 42,
   "id": "6eda3240",
   "metadata": {
    "execution": {
     "iopub.execute_input": "2023-10-05T23:30:06.801601Z",
     "iopub.status.busy": "2023-10-05T23:30:06.801228Z",
     "iopub.status.idle": "2023-10-05T23:30:06.826166Z",
     "shell.execute_reply": "2023-10-05T23:30:06.825086Z"
    },
    "papermill": {
     "duration": 0.127877,
     "end_time": "2023-10-05T23:30:06.828322",
     "exception": false,
     "start_time": "2023-10-05T23:30:06.700445",
     "status": "completed"
    },
    "tags": []
   },
   "outputs": [
    {
     "data": {
      "text/html": [
       "<div>\n",
       "<style scoped>\n",
       "    .dataframe tbody tr th:only-of-type {\n",
       "        vertical-align: middle;\n",
       "    }\n",
       "\n",
       "    .dataframe tbody tr th {\n",
       "        vertical-align: top;\n",
       "    }\n",
       "\n",
       "    .dataframe thead th {\n",
       "        text-align: right;\n",
       "    }\n",
       "</style>\n",
       "<table border=\"1\" class=\"dataframe\">\n",
       "  <thead>\n",
       "    <tr style=\"text-align: right;\">\n",
       "      <th></th>\n",
       "      <th>word</th>\n",
       "      <th>frequency</th>\n",
       "    </tr>\n",
       "  </thead>\n",
       "  <tbody>\n",
       "    <tr>\n",
       "      <th>0</th>\n",
       "      <td>'</td>\n",
       "      <td>13356</td>\n",
       "    </tr>\n",
       "    <tr>\n",
       "      <th>1</th>\n",
       "      <td>je</td>\n",
       "      <td>9893</td>\n",
       "    </tr>\n",
       "    <tr>\n",
       "      <th>2</th>\n",
       "      <td>est</td>\n",
       "      <td>8880</td>\n",
       "    </tr>\n",
       "    <tr>\n",
       "      <th>3</th>\n",
       "      <td>tom</td>\n",
       "      <td>5771</td>\n",
       "    </tr>\n",
       "    <tr>\n",
       "      <th>4</th>\n",
       "      <td>de</td>\n",
       "      <td>5322</td>\n",
       "    </tr>\n",
       "    <tr>\n",
       "      <th>...</th>\n",
       "      <td>...</td>\n",
       "      <td>...</td>\n",
       "    </tr>\n",
       "    <tr>\n",
       "      <th>13760</th>\n",
       "      <td>remédier</td>\n",
       "      <td>1</td>\n",
       "    </tr>\n",
       "    <tr>\n",
       "      <th>13761</th>\n",
       "      <td>écrasante</td>\n",
       "      <td>1</td>\n",
       "    </tr>\n",
       "    <tr>\n",
       "      <th>13762</th>\n",
       "      <td>chignon</td>\n",
       "      <td>1</td>\n",
       "    </tr>\n",
       "    <tr>\n",
       "      <th>13763</th>\n",
       "      <td>crêpèrent</td>\n",
       "      <td>1</td>\n",
       "    </tr>\n",
       "    <tr>\n",
       "      <th>13764</th>\n",
       "      <td>infiltra</td>\n",
       "      <td>1</td>\n",
       "    </tr>\n",
       "  </tbody>\n",
       "</table>\n",
       "<p>13765 rows × 2 columns</p>\n",
       "</div>"
      ],
      "text/plain": [
       "            word  frequency\n",
       "0              '      13356\n",
       "1             je       9893\n",
       "2            est       8880\n",
       "3            tom       5771\n",
       "4             de       5322\n",
       "...          ...        ...\n",
       "13760   remédier          1\n",
       "13761  écrasante          1\n",
       "13762    chignon          1\n",
       "13763  crêpèrent          1\n",
       "13764   infiltra          1\n",
       "\n",
       "[13765 rows x 2 columns]"
      ]
     },
     "execution_count": 42,
     "metadata": {},
     "output_type": "execute_result"
    }
   ],
   "source": [
    "# Convert counter to Pandas dataframe\n",
    "counter_df = pd.DataFrame({'word':pd.Series(dict(counter).keys()), 'frequency':pd.Series(dict(counter).values())})\n",
    "# Sort counter\n",
    "counter_df = counter_df.sort_values(by = 'frequency', axis = 0, ascending=False)\n",
    "counter_df.reset_index().drop('index', axis = 1)"
   ]
  },
  {
   "cell_type": "code",
   "execution_count": 43,
   "id": "a60cd0c0",
   "metadata": {
    "execution": {
     "iopub.execute_input": "2023-10-05T23:30:07.031393Z",
     "iopub.status.busy": "2023-10-05T23:30:07.031017Z",
     "iopub.status.idle": "2023-10-05T23:30:07.064181Z",
     "shell.execute_reply": "2023-10-05T23:30:07.062781Z"
    },
    "papermill": {
     "duration": 0.139246,
     "end_time": "2023-10-05T23:30:07.066613",
     "exception": false,
     "start_time": "2023-10-05T23:30:06.927367",
     "status": "completed"
    },
    "tags": []
   },
   "outputs": [],
   "source": [
    "# Saving french word counter\n",
    "counter_df.to_csv(\"/kaggle/working/french_counter.txt\")"
   ]
  },
  {
   "cell_type": "markdown",
   "id": "53d28938",
   "metadata": {
    "papermill": {
     "duration": 0.096542,
     "end_time": "2023-10-05T23:30:07.260252",
     "exception": false,
     "start_time": "2023-10-05T23:30:07.163710",
     "status": "completed"
    },
    "tags": []
   },
   "source": [
    "Computing number of words included in word-list vs. proportion of words dataset in the word list"
   ]
  },
  {
   "cell_type": "code",
   "execution_count": 44,
   "id": "b4a61025",
   "metadata": {
    "execution": {
     "iopub.execute_input": "2023-10-05T23:30:07.460690Z",
     "iopub.status.busy": "2023-10-05T23:30:07.460282Z",
     "iopub.status.idle": "2023-10-05T23:30:07.466006Z",
     "shell.execute_reply": "2023-10-05T23:30:07.464507Z"
    },
    "papermill": {
     "duration": 0.108032,
     "end_time": "2023-10-05T23:30:07.468090",
     "exception": false,
     "start_time": "2023-10-05T23:30:07.360058",
     "status": "completed"
    },
    "tags": []
   },
   "outputs": [],
   "source": [
    "total_num  = counter_df.frequency.sum()"
   ]
  },
  {
   "cell_type": "code",
   "execution_count": 45,
   "id": "60c34566",
   "metadata": {
    "execution": {
     "iopub.execute_input": "2023-10-05T23:30:07.733849Z",
     "iopub.status.busy": "2023-10-05T23:30:07.733211Z",
     "iopub.status.idle": "2023-10-05T23:30:07.737630Z",
     "shell.execute_reply": "2023-10-05T23:30:07.736912Z"
    },
    "papermill": {
     "duration": 0.104573,
     "end_time": "2023-10-05T23:30:07.739491",
     "exception": false,
     "start_time": "2023-10-05T23:30:07.634918",
     "status": "completed"
    },
    "tags": []
   },
   "outputs": [],
   "source": [
    "prop_ser = counter_df.frequency.cumsum()/total_num"
   ]
  },
  {
   "cell_type": "code",
   "execution_count": 46,
   "id": "43961d99",
   "metadata": {
    "execution": {
     "iopub.execute_input": "2023-10-05T23:30:07.940249Z",
     "iopub.status.busy": "2023-10-05T23:30:07.939654Z",
     "iopub.status.idle": "2023-10-05T23:30:08.170401Z",
     "shell.execute_reply": "2023-10-05T23:30:08.169359Z"
    },
    "papermill": {
     "duration": 0.330627,
     "end_time": "2023-10-05T23:30:08.172410",
     "exception": false,
     "start_time": "2023-10-05T23:30:07.841783",
     "status": "completed"
    },
    "tags": []
   },
   "outputs": [
    {
     "data": {
      "image/png": "[encoded data removed]",
      "text/plain": [
       "<Figure size 640x480 with 1 Axes>"
      ]
     },
     "metadata": {},
     "output_type": "display_data"
    }
   ],
   "source": [
    "plt.plot(list(prop_ser))\n",
    "plt.xlabel('Number of known French words')\n",
    "plt.ylabel('Proportion of French words known')\n",
    "plt.show()"
   ]
  },
  {
   "cell_type": "code",
   "execution_count": 47,
   "id": "f574d5e5",
   "metadata": {
    "execution": {
     "iopub.execute_input": "2023-10-05T23:30:08.376054Z",
     "iopub.status.busy": "2023-10-05T23:30:08.375414Z",
     "iopub.status.idle": "2023-10-05T23:30:08.381008Z",
     "shell.execute_reply": "2023-10-05T23:30:08.379991Z"
    },
    "papermill": {
     "duration": 0.10957,
     "end_time": "2023-10-05T23:30:08.382963",
     "exception": false,
     "start_time": "2023-10-05T23:30:08.273393",
     "status": "completed"
    },
    "tags": []
   },
   "outputs": [
    {
     "name": "stdout",
     "output_type": "stream",
     "text": [
      "97.98% of the dataset consists of 2000 unique words.\n"
     ]
    }
   ],
   "source": [
    "Fdict_size = 2000\n",
    "print(f'{round(prop_ser[Fdict_size]*100,2)}% of the dataset consists of {Fdict_size} unique words.')"
   ]
  },
  {
   "cell_type": "code",
   "execution_count": 48,
   "id": "6dbee756",
   "metadata": {
    "execution": {
     "iopub.execute_input": "2023-10-05T23:30:08.588916Z",
     "iopub.status.busy": "2023-10-05T23:30:08.588225Z",
     "iopub.status.idle": "2023-10-05T23:30:08.597727Z",
     "shell.execute_reply": "2023-10-05T23:30:08.596671Z"
    },
    "papermill": {
     "duration": 0.116367,
     "end_time": "2023-10-05T23:30:08.599842",
     "exception": false,
     "start_time": "2023-10-05T23:30:08.483475",
     "status": "completed"
    },
    "tags": []
   },
   "outputs": [
    {
     "data": {
      "text/html": [
       "<div>\n",
       "<style scoped>\n",
       "    .dataframe tbody tr th:only-of-type {\n",
       "        vertical-align: middle;\n",
       "    }\n",
       "\n",
       "    .dataframe tbody tr th {\n",
       "        vertical-align: top;\n",
       "    }\n",
       "\n",
       "    .dataframe thead th {\n",
       "        text-align: right;\n",
       "    }\n",
       "</style>\n",
       "<table border=\"1\" class=\"dataframe\">\n",
       "  <thead>\n",
       "    <tr style=\"text-align: right;\">\n",
       "      <th></th>\n",
       "      <th>word</th>\n",
       "      <th>frequency</th>\n",
       "    </tr>\n",
       "  </thead>\n",
       "  <tbody>\n",
       "    <tr>\n",
       "      <th>4669</th>\n",
       "      <td>vies</td>\n",
       "      <td>11</td>\n",
       "    </tr>\n",
       "    <tr>\n",
       "      <th>3043</th>\n",
       "      <td>tapis</td>\n",
       "      <td>11</td>\n",
       "    </tr>\n",
       "    <tr>\n",
       "      <th>9245</th>\n",
       "      <td>responsabilité</td>\n",
       "      <td>11</td>\n",
       "    </tr>\n",
       "    <tr>\n",
       "      <th>4597</th>\n",
       "      <td>morceaux</td>\n",
       "      <td>11</td>\n",
       "    </tr>\n",
       "    <tr>\n",
       "      <th>1895</th>\n",
       "      <td>travaillais</td>\n",
       "      <td>11</td>\n",
       "    </tr>\n",
       "    <tr>\n",
       "      <th>1167</th>\n",
       "      <td>selon</td>\n",
       "      <td>11</td>\n",
       "    </tr>\n",
       "    <tr>\n",
       "      <th>1889</th>\n",
       "      <td>malchanceux</td>\n",
       "      <td>11</td>\n",
       "    </tr>\n",
       "    <tr>\n",
       "      <th>4990</th>\n",
       "      <td>contient</td>\n",
       "      <td>11</td>\n",
       "    </tr>\n",
       "    <tr>\n",
       "      <th>5936</th>\n",
       "      <td>appel</td>\n",
       "      <td>11</td>\n",
       "    </tr>\n",
       "    <tr>\n",
       "      <th>3021</th>\n",
       "      <td>réellement</td>\n",
       "      <td>11</td>\n",
       "    </tr>\n",
       "    <tr>\n",
       "      <th>5181</th>\n",
       "      <td>refaire</td>\n",
       "      <td>11</td>\n",
       "    </tr>\n",
       "    <tr>\n",
       "      <th>4477</th>\n",
       "      <td>rappeler</td>\n",
       "      <td>11</td>\n",
       "    </tr>\n",
       "    <tr>\n",
       "      <th>1943</th>\n",
       "      <td>distrait</td>\n",
       "      <td>11</td>\n",
       "    </tr>\n",
       "    <tr>\n",
       "      <th>4403</th>\n",
       "      <td>reviendra</td>\n",
       "      <td>11</td>\n",
       "    </tr>\n",
       "    <tr>\n",
       "      <th>1937</th>\n",
       "      <td>désespéré</td>\n",
       "      <td>11</td>\n",
       "    </tr>\n",
       "    <tr>\n",
       "      <th>1069</th>\n",
       "      <td>exact</td>\n",
       "      <td>11</td>\n",
       "    </tr>\n",
       "    <tr>\n",
       "      <th>1015</th>\n",
       "      <td>bête</td>\n",
       "      <td>11</td>\n",
       "    </tr>\n",
       "    <tr>\n",
       "      <th>1950</th>\n",
       "      <td>expert</td>\n",
       "      <td>11</td>\n",
       "    </tr>\n",
       "    <tr>\n",
       "      <th>1255</th>\n",
       "      <td>présenté</td>\n",
       "      <td>11</td>\n",
       "    </tr>\n",
       "    <tr>\n",
       "      <th>1312</th>\n",
       "      <td>blagues</td>\n",
       "      <td>11</td>\n",
       "    </tr>\n",
       "    <tr>\n",
       "      <th>1286</th>\n",
       "      <td>doutes</td>\n",
       "      <td>11</td>\n",
       "    </tr>\n",
       "  </tbody>\n",
       "</table>\n",
       "</div>"
      ],
      "text/plain": [
       "                word  frequency\n",
       "4669            vies         11\n",
       "3043           tapis         11\n",
       "9245  responsabilité         11\n",
       "4597        morceaux         11\n",
       "1895     travaillais         11\n",
       "1167           selon         11\n",
       "1889     malchanceux         11\n",
       "4990        contient         11\n",
       "5936           appel         11\n",
       "3021      réellement         11\n",
       "5181         refaire         11\n",
       "4477        rappeler         11\n",
       "1943        distrait         11\n",
       "4403       reviendra         11\n",
       "1937       désespéré         11\n",
       "1069           exact         11\n",
       "1015            bête         11\n",
       "1950          expert         11\n",
       "1255        présenté         11\n",
       "1312         blagues         11\n",
       "1286          doutes         11"
      ]
     },
     "execution_count": 48,
     "metadata": {},
     "output_type": "execute_result"
    }
   ],
   "source": [
    "# Final 20 known words\n",
    "counter_df.iloc[1980:2001]"
   ]
  },
  {
   "cell_type": "markdown",
   "id": "545e0a29",
   "metadata": {
    "papermill": {
     "duration": 0.09833,
     "end_time": "2023-10-05T23:30:08.797733",
     "exception": false,
     "start_time": "2023-10-05T23:30:08.699403",
     "status": "completed"
    },
    "tags": []
   },
   "source": [
    "## Embedding and tensorised dataset"
   ]
  },
  {
   "cell_type": "markdown",
   "id": "32ed2d3b",
   "metadata": {
    "papermill": {
     "duration": 0.099017,
     "end_time": "2023-10-05T23:30:08.997271",
     "exception": false,
     "start_time": "2023-10-05T23:30:08.898254",
     "status": "completed"
    },
    "tags": []
   },
   "source": [
    "Next, we convert the above English-French sentence pair dataset into the form two Tensors: the input `X` and the target `Y`. We shall apply a word level embedding, meaning that we split the sentence into words/punctuation and punctuation, then apply a pre-trained word embedding algorithm to covert the words into vectors of size `emb_size`. The sentences have different lengths, so in order for the datapoints of the tensorial dataset to have a consistent shape, we append the necessary number of padding tokens `<pad>`. In addition, we prepend a `<bos>` token to the French sentences. \n",
    "* Unknown token `<unk>` is represented by the zero vector.\n",
    "* Beginning of sentence token `<bos>`  is represented by `2*torch.ones(emb_size)`.\n",
    "* Padding token `<pad>` is represented by `- 2*torch.ones(emb_size)`.\n"
   ]
  },
  {
   "cell_type": "code",
   "execution_count": 49,
   "id": "9ac85f41",
   "metadata": {
    "execution": {
     "iopub.execute_input": "2023-10-05T23:30:09.199822Z",
     "iopub.status.busy": "2023-10-05T23:30:09.199444Z",
     "iopub.status.idle": "2023-10-05T23:30:09.256169Z",
     "shell.execute_reply": "2023-10-05T23:30:09.255397Z"
    },
    "papermill": {
     "duration": 0.160598,
     "end_time": "2023-10-05T23:30:09.258479",
     "exception": false,
     "start_time": "2023-10-05T23:30:09.097881",
     "status": "completed"
    },
    "tags": []
   },
   "outputs": [],
   "source": [
    "N_in = 7 # Length of input sentences\n",
    "N_out = 8 # Length of output sentences\n",
    "emb_size = 300 # Size of embedded vectors\n",
    "bos_vec = 2*torch.ones(emb_size) # vector for <bos> token"
   ]
  },
  {
   "cell_type": "markdown",
   "id": "a5e6cea7",
   "metadata": {
    "papermill": {
     "duration": 0.098668,
     "end_time": "2023-10-05T23:30:09.460037",
     "exception": false,
     "start_time": "2023-10-05T23:30:09.361369",
     "status": "completed"
    },
    "tags": []
   },
   "source": [
    "Loading in pre-trained fastText word embedding vectors:"
   ]
  },
  {
   "cell_type": "code",
   "execution_count": 50,
   "id": "4ecca09e",
   "metadata": {
    "execution": {
     "iopub.execute_input": "2023-10-05T23:30:09.658880Z",
     "iopub.status.busy": "2023-10-05T23:30:09.658191Z",
     "iopub.status.idle": "2023-10-05T23:38:00.512455Z",
     "shell.execute_reply": "2023-10-05T23:38:00.511283Z"
    },
    "papermill": {
     "duration": 470.957048,
     "end_time": "2023-10-05T23:38:00.514944",
     "exception": false,
     "start_time": "2023-10-05T23:30:09.557896",
     "status": "completed"
    },
    "tags": []
   },
   "outputs": [
    {
     "name": "stderr",
     "output_type": "stream",
     "text": [
      "100%|██████████| 2000000/2000000 [04:18<00:00, 7751.29it/s]\n",
      "100%|██████████| 1000000/1000000 [02:24<00:00, 6925.17it/s]\n"
     ]
    }
   ],
   "source": [
    "# French embedding\n",
    "vocab_fr = torchtext.vocab.Vectors('/kaggle/input/fasttext-french-2b-300d/cc.fr.300.vec')\n",
    "# English embedding\n",
    "vocab_en = torchtext.vocab.Vectors('/kaggle/input/d/facebook/fasttext-wikinews/wiki-news-300d-1M.vec')"
   ]
  },
  {
   "cell_type": "markdown",
   "id": "41f4d01e",
   "metadata": {
    "execution": {
     "iopub.execute_input": "2023-09-19T09:52:49.255312Z",
     "iopub.status.busy": "2023-09-19T09:52:49.254853Z",
     "iopub.status.idle": "2023-09-19T09:52:49.262460Z",
     "shell.execute_reply": "2023-09-19T09:52:49.260934Z",
     "shell.execute_reply.started": "2023-09-19T09:52:49.255275Z"
    },
    "papermill": {
     "duration": 0.366533,
     "end_time": "2023-10-05T23:38:01.181813",
     "exception": false,
     "start_time": "2023-10-05T23:38:00.815280",
     "status": "completed"
    },
    "tags": []
   },
   "source": [
    "Main loop:"
   ]
  },
  {
   "cell_type": "code",
   "execution_count": 51,
   "id": "23d29c2b",
   "metadata": {
    "execution": {
     "iopub.execute_input": "2023-10-05T23:38:01.778086Z",
     "iopub.status.busy": "2023-10-05T23:38:01.777643Z",
     "iopub.status.idle": "2023-10-06T04:39:13.921716Z",
     "shell.execute_reply": "2023-10-06T04:39:13.917163Z"
    },
    "papermill": {
     "duration": 18077.235655,
     "end_time": "2023-10-06T04:39:18.712428",
     "exception": false,
     "start_time": "2023-10-05T23:38:01.476773",
     "status": "completed"
    },
    "tags": []
   },
   "outputs": [
    {
     "name": "stderr",
     "output_type": "stream",
     "text": [
      "100%|██████████| 53868/53868 [2:13:16<00:00,  6.74it/s]\n",
      "100%|██████████| 53868/53868 [2:47:55<00:00,  5.35it/s]\n"
     ]
    }
   ],
   "source": [
    "data_En = data_fin.En; data_Fr = data_fin.Fr \n",
    "x_raw = vocab_en.get_vecs_by_tokens(data_En.iloc[0].split(' '))\n",
    "pad_seq = -2 * torch.ones(N_in - x_raw.shape[0],emb_size)\n",
    "x = torch.concat([x_raw, pad_seq],dim=0).reshape(1,N_in,emb_size) # append <pad> vectors\n",
    "X = x\n",
    "for sent in tqdm(data_En.iloc[1:]):\n",
    "    x_raw = vocab_en.get_vecs_by_tokens(sent.split(' '))\n",
    "    pad_seq = -2 * torch.ones(N_in - x_raw.shape[0],emb_size)\n",
    "    x = torch.concat([x_raw, pad_seq],dim=0).reshape(1,N_in,emb_size) # append <pad> vectors\n",
    "    X = torch.concat([X,x],dim=0)\n",
    "y_raw = vocab_fr.get_vecs_by_tokens(data_Fr.iloc[0].split(' '))\n",
    "pad_seq = -2 * torch.ones(N_out - y_raw.shape[0],emb_size)\n",
    "y_raw = torch.concat([y_raw, pad_seq],dim=0)\n",
    "y = torch.concat([bos_vec.unsqueeze(dim=0),y_raw],dim=0).unsqueeze(dim=0) # prepend <bos> vector\n",
    "Y = y\n",
    "for sent in tqdm(data_Fr.iloc[1:]):\n",
    "    y_raw = vocab_fr.get_vecs_by_tokens(sent.split(' '))\n",
    "    pad_seq = -2 * torch.ones(N_out - y_raw.shape[0],emb_size)\n",
    "    y_raw = torch.concat([y_raw, pad_seq],dim=0)\n",
    "    y = torch.concat([bos_vec.unsqueeze(dim=0),y_raw],dim=0).unsqueeze(dim=0) # prepend <bos> vector\n",
    "    Y = torch.concat([Y,y],dim=0)"
   ]
  },
  {
   "cell_type": "markdown",
   "id": "756d3904",
   "metadata": {
    "papermill": {
     "duration": 5.172789,
     "end_time": "2023-10-06T04:39:28.862061",
     "exception": false,
     "start_time": "2023-10-06T04:39:23.689272",
     "status": "completed"
    },
    "tags": []
   },
   "source": [
    "Saving tensorial dataset."
   ]
  },
  {
   "cell_type": "code",
   "execution_count": 52,
   "id": "8c02e082",
   "metadata": {
    "execution": {
     "iopub.execute_input": "2023-10-06T04:39:38.733268Z",
     "iopub.status.busy": "2023-10-06T04:39:38.731490Z",
     "iopub.status.idle": "2023-10-06T04:39:41.335630Z",
     "shell.execute_reply": "2023-10-06T04:39:41.334600Z"
    },
    "papermill": {
     "duration": 7.574859,
     "end_time": "2023-10-06T04:39:41.337899",
     "exception": false,
     "start_time": "2023-10-06T04:39:33.763040",
     "status": "completed"
    },
    "tags": []
   },
   "outputs": [],
   "source": [
    "dataset = TensorDataset(X,Y)\n",
    "torch.save(dataset,'/kaggle/working/EnFr_tensors.pt')"
   ]
  }
 ],
 "metadata": {
  "kernelspec": {
   "display_name": "Python 3",
   "language": "python",
   "name": "python3"
  },
  "language_info": {
   "codemirror_mode": {
    "name": "ipython",
    "version": 3
   },
   "file_extension": ".py",
   "mimetype": "text/x-python",
   "name": "python",
   "nbconvert_exporter": "python",
   "pygments_lexer": "ipython3",
   "version": "3.10.12"
  },
  "papermill": {
   "default_parameters": {},
   "duration": 18985.715147,
   "end_time": "2023-10-06T04:39:49.289972",
   "environment_variables": {},
   "exception": null,
   "input_path": "__notebook__.ipynb",
   "output_path": "__notebook__.ipynb",
   "parameters": {},
   "start_time": "2023-10-05T23:23:23.574825",
   "version": "2.4.0"
  }
 },
 "nbformat": 4,
 "nbformat_minor": 5
}
