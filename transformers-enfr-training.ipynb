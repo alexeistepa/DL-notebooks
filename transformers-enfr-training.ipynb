{
 "cells": [
  {
   "cell_type": "markdown",
   "id": "ac82b0c8",
   "metadata": {
    "papermill": {
     "duration": 0.013043,
     "end_time": "2023-10-05T21:31:37.584547",
     "exception": false,
     "start_time": "2023-10-05T21:31:37.571504",
     "status": "completed"
    },
    "tags": []
   },
   "source": [
    "# English to French translation with transformers"
   ]
  },
  {
   "cell_type": "markdown",
   "id": "8304f747",
   "metadata": {
    "papermill": {
     "duration": 0.010459,
     "end_time": "2023-10-05T21:31:37.606919",
     "exception": false,
     "start_time": "2023-10-05T21:31:37.596460",
     "status": "completed"
    },
    "tags": []
   },
   "source": [
    "The aim of this notebook is to train an English to French translation system using the transformer encoder-decoder architecture introduced in the paper *Attention is all you need*."
   ]
  },
  {
   "cell_type": "code",
   "execution_count": 1,
   "id": "a2666bc6",
   "metadata": {
    "execution": {
     "iopub.execute_input": "2023-10-05T21:31:37.630125Z",
     "iopub.status.busy": "2023-10-05T21:31:37.629336Z",
     "iopub.status.idle": "2023-10-05T21:31:42.550729Z",
     "shell.execute_reply": "2023-10-05T21:31:42.549785Z"
    },
    "papermill": {
     "duration": 4.935478,
     "end_time": "2023-10-05T21:31:42.553094",
     "exception": false,
     "start_time": "2023-10-05T21:31:37.617616",
     "status": "completed"
    },
    "tags": []
   },
   "outputs": [],
   "source": [
    "import torch\n",
    "from torch.utils.data import Dataset, DataLoader\n",
    "from torch import nn, optim\n",
    "import torch.nn.functional as F\n",
    "import torchtext\n",
    "import pandas as pd\n",
    "import numpy as np\n",
    "import matplotlib.pyplot as plt\n",
    "import re\n",
    "from tqdm import tqdm\n",
    "from time import time"
   ]
  },
  {
   "cell_type": "markdown",
   "id": "cd5cfcfe",
   "metadata": {
    "papermill": {
     "duration": 0.005987,
     "end_time": "2023-10-05T21:31:42.565738",
     "exception": false,
     "start_time": "2023-10-05T21:31:42.559751",
     "status": "completed"
    },
    "tags": []
   },
   "source": [
    "## Model"
   ]
  },
  {
   "cell_type": "code",
   "execution_count": 2,
   "id": "7323ed90",
   "metadata": {
    "execution": {
     "iopub.execute_input": "2023-10-05T21:31:42.579761Z",
     "iopub.status.busy": "2023-10-05T21:31:42.579274Z",
     "iopub.status.idle": "2023-10-05T21:31:42.584003Z",
     "shell.execute_reply": "2023-10-05T21:31:42.583043Z"
    },
    "papermill": {
     "duration": 0.013882,
     "end_time": "2023-10-05T21:31:42.585692",
     "exception": false,
     "start_time": "2023-10-05T21:31:42.571810",
     "status": "completed"
    },
    "tags": []
   },
   "outputs": [],
   "source": [
    "N_in = 7 # Length of input sentences\n",
    "N_out = 8 # Length of output sentences\n",
    "emb_size = 300 # Size of embedded vectors\n",
    "n_layers = 6 # Number of layers for encoder and decoder stacks\n",
    "nhead = 6 # Number of heads in multihead attention layers\n",
    "dim_feedforward = 1024 # Number of hidden neurons in positionwise-FCNN \n",
    "dim_out_hidden = 1024 # Number of hidden neurons in output FCNN\n",
    "dropout = 0.1 # Dropout value\n",
    "num_fr_words = 2000 # Length of French word list"
   ]
  },
  {
   "cell_type": "markdown",
   "id": "bd2a76f9",
   "metadata": {
    "papermill": {
     "duration": 0.006866,
     "end_time": "2023-10-05T21:31:42.598736",
     "exception": false,
     "start_time": "2023-10-05T21:31:42.591870",
     "status": "completed"
    },
    "tags": []
   },
   "source": [
    "The model is split into an encoding step and a decoding step. \n",
    "\n",
    "Encoding step:\n",
    "- **Raw input**: English sentence consisting of a sequence of `N_in` strings (words and other tokens such as `<eos>`and `<pad>`). \n",
    "- **Embedding**: FastText converts each sentence into a sequence of `N_in` float vectors of size `emb_size`\n",
    "- **Encoder stack**: Given the sequence of `N_in` embedded vectors, the encoder stack outputs a sequence of `N_in` vectors of the same size `emb_size`, intended to be a latent representation of the input sentence. The encoder stack consists in first adding a positional encoding signal to the input, then applying `n_layers` \"Transformer encoder\" layers. Each transformer encoder layer consists of two sub-layers: a multi-head self-attention layer (with `nhead` heads) and a positionwise-FCNN (single hidden layer with `dim_feedforward` neurons), with residual connections and layer-normalisation applied after each sub-layer.\n",
    "\n",
    "For the decoding step of the model we need the following element:\n",
    "- **French word-list**: A list `fr_wordlst` of French words and punctuation from which the model will construct its output. The word-list also includes a end-of-sentence token `<eos>`.\n",
    "\n",
    "The decoder stack starts with a sequence `output` with only one element, the beginning of sentence token `<bos>`. The model then iteratively generates the next word/token of the ouput sentence and appends it to the `output` sequence until:\n",
    "- **Termination condition**: Either the end of sentence token `<eos>` is generated or the sequence output reaches a length `N_out` (including the `<bos>` token). \n",
    "\n",
    "The generation of the next word is performed as follows:\n",
    "- **Embedding**: FastText converts each word/token of the current instance of the sequence `translation`into a vector of size `emb_size`\n",
    "- **Decoder stack**: Given the above sequence of vectors, the decoder stack outputs a sequence of vectors of the same size. The decoder stack consists in `n_layers` \"Transformer decoder\" layers. Each transformer decoder layer consists of three sub-layers: a multi-head self-attention layer applied to the embedding of the sequence `translation`, a multi-head \"encoder-decoder\" attention layer (the queries and values come from the output of the encoder stack and the queries come from the previous self-attention layer) and a positionwise-FCNN. A residual connection and layer normalisation is applied after each sub-layer. The number of heads in both multi-head attention layers is `nhead` and the positionwise-FCNN has a single hidden layer with `dim_feedforward` neurons.\n",
    "- **Output layer**: An FCNN with a single hidden layer (`dim_out_hidden` neurons), applied to the final vector of the decoder output, followed by a softmax function, gives a probability distribution of the French word-list `fr_wordlst`. The next word with the highest probability is appended onto `translation`.\n",
    "\n",
    "Training of the model shall be performed as follows:\n",
    "- **Training dataset**: The input variables are the English sentence and the first $N$ words/tokens of the French translation, where $N$ varies from 1 (just the `<bos>` token) to the entire length of the translation sequence. The target variable is the next word of the translation or the `<eos>` token if the entire translation is given as input.\n",
    "- **Loss function**: Cross-entropy loss function is used to compare the probability distribution over `fr_wordlst` outputted by the model with a one-hot vector representing the target variable. If the target variable is not in `fr_wordlst`, then we set the loss to zero.\n",
    "- **Regularisation**: Dropout with value `dropout`."
   ]
  },
  {
   "cell_type": "markdown",
   "id": "d2cfd293",
   "metadata": {
    "papermill": {
     "duration": 0.005836,
     "end_time": "2023-10-05T21:31:42.610913",
     "exception": false,
     "start_time": "2023-10-05T21:31:42.605077",
     "status": "completed"
    },
    "tags": []
   },
   "source": [
    "#### Embedding layers\n",
    "\n",
    "First, we create two functions which take in a sentence (English or French resp.) and outputs a 2d PyTorch tensor representing a sequence of vectors. We use fastText, which provides vectors for words and punctuation.\n",
    "* Unknown token `<unk>` is represented by the zero vector.\n",
    "* Beginning of sentence token `<bos>`  is represented by `2*torch.ones(emb_size)`.\n",
    "* Padding token `<pad>` is represented by `- 2*torch.ones(emb_size)`.\n",
    "\n",
    "**To do** `<eos>` token not `<pad>` token "
   ]
  },
  {
   "cell_type": "code",
   "execution_count": 3,
   "id": "3703fa48",
   "metadata": {
    "execution": {
     "iopub.execute_input": "2023-10-05T21:31:42.624892Z",
     "iopub.status.busy": "2023-10-05T21:31:42.624107Z",
     "iopub.status.idle": "2023-10-05T21:32:44.669565Z",
     "shell.execute_reply": "2023-10-05T21:32:44.668518Z"
    },
    "papermill": {
     "duration": 62.054786,
     "end_time": "2023-10-05T21:32:44.671880",
     "exception": false,
     "start_time": "2023-10-05T21:31:42.617094",
     "status": "completed"
    },
    "tags": []
   },
   "outputs": [
    {
     "name": "stderr",
     "output_type": "stream",
     "text": [
      "100%|██████████| 30000/30000 [00:03<00:00, 8421.79it/s]\n",
      "100%|██████████| 30000/30000 [00:04<00:00, 6973.27it/s]\n"
     ]
    }
   ],
   "source": [
    "# French embedding\n",
    "vocab_fr = torchtext.vocab.Vectors('/kaggle/input/fasttext-french-2b-300d/cc.fr.300.vec',max_vectors = 30000)\n",
    "# English embedding\n",
    "vocab_en = torchtext.vocab.Vectors('/kaggle/input/fasttext-wikinews/wiki-news-300d-1M.vec',max_vectors = 30000)\n"
   ]
  },
  {
   "cell_type": "code",
   "execution_count": 4,
   "id": "7261bf41",
   "metadata": {
    "execution": {
     "iopub.execute_input": "2023-10-05T21:32:44.694781Z",
     "iopub.status.busy": "2023-10-05T21:32:44.694209Z",
     "iopub.status.idle": "2023-10-05T21:32:44.757419Z",
     "shell.execute_reply": "2023-10-05T21:32:44.756346Z"
    },
    "papermill": {
     "duration": 0.077155,
     "end_time": "2023-10-05T21:32:44.759522",
     "exception": false,
     "start_time": "2023-10-05T21:32:44.682367",
     "status": "completed"
    },
    "tags": []
   },
   "outputs": [
    {
     "name": "stdout",
     "output_type": "stream",
     "text": [
      "tensor([[ 0.0797, -0.0294,  0.0033,  ...,  0.1372,  0.0669, -0.0084],\n",
      "        [-0.1179,  0.0636, -0.0078,  ...,  0.0994,  0.0352, -0.0196],\n",
      "        [ 0.0752,  0.1227,  0.1374,  ...,  0.1154, -0.0208, -0.0434],\n",
      "        [ 0.0004,  0.0032, -0.0204,  ...,  0.2070,  0.0689, -0.0467]])\n"
     ]
    }
   ],
   "source": [
    "# example 1\n",
    "sent_en = 'The dogs ate .'\n",
    "print(vocab_en.get_vecs_by_tokens(sent_en.split(' ')))"
   ]
  },
  {
   "cell_type": "code",
   "execution_count": 5,
   "id": "3679bfaa",
   "metadata": {
    "execution": {
     "iopub.execute_input": "2023-10-05T21:32:44.783601Z",
     "iopub.status.busy": "2023-10-05T21:32:44.782611Z",
     "iopub.status.idle": "2023-10-05T21:32:44.789550Z",
     "shell.execute_reply": "2023-10-05T21:32:44.788463Z"
    },
    "papermill": {
     "duration": 0.020895,
     "end_time": "2023-10-05T21:32:44.791494",
     "exception": false,
     "start_time": "2023-10-05T21:32:44.770599",
     "status": "completed"
    },
    "tags": []
   },
   "outputs": [
    {
     "name": "stdout",
     "output_type": "stream",
     "text": [
      "tensor([[-0.0594,  0.0330, -0.0503,  ...,  0.1932, -0.0023,  0.0341],\n",
      "        [ 0.0084,  0.0216,  0.0323,  ...,  0.0561,  0.0040,  0.1386],\n",
      "        [ 0.0092,  0.0073, -0.2033,  ..., -0.1730,  0.0966,  0.0489],\n",
      "        [ 0.1356, -0.0000, -0.0007,  ...,  0.0340,  0.0039,  0.0621],\n",
      "        [ 0.1828, -0.1425, -0.1679,  ..., -0.3886, -0.1527,  0.0675]])\n"
     ]
    }
   ],
   "source": [
    "# example 2\n",
    "sent_fr = \"Les chiens a mange ?\"\n",
    "print(vocab_fr.get_vecs_by_tokens(sent_fr.split(' ')))"
   ]
  },
  {
   "cell_type": "markdown",
   "id": "469ff598",
   "metadata": {
    "papermill": {
     "duration": 0.010865,
     "end_time": "2023-10-05T21:32:44.813297",
     "exception": false,
     "start_time": "2023-10-05T21:32:44.802432",
     "status": "completed"
    },
    "tags": []
   },
   "source": [
    "Words such as \"we're\" and \"c'est\" are not recognised by the word embedding algorithms. \n",
    "\n",
    "This is why we treat them as multiple tokens, i.e. [we,',re] and [c,',est] resp. "
   ]
  },
  {
   "cell_type": "code",
   "execution_count": 6,
   "id": "f30e5ecf",
   "metadata": {
    "execution": {
     "iopub.execute_input": "2023-10-05T21:32:44.836673Z",
     "iopub.status.busy": "2023-10-05T21:32:44.835810Z",
     "iopub.status.idle": "2023-10-05T21:32:44.849072Z",
     "shell.execute_reply": "2023-10-05T21:32:44.847902Z"
    },
    "papermill": {
     "duration": 0.02652,
     "end_time": "2023-10-05T21:32:44.850887",
     "exception": false,
     "start_time": "2023-10-05T21:32:44.824367",
     "status": "completed"
    },
    "tags": []
   },
   "outputs": [
    {
     "name": "stdout",
     "output_type": "stream",
     "text": [
      "tensor(0.) tensor(2.1135) tensor(1.4133) tensor(1.9807)\n",
      "tensor(0.) tensor(0.5633) tensor(0.6729) tensor(2.5800) tensor(3.0775)\n"
     ]
    }
   ],
   "source": [
    "# example 3a\n",
    "print(torch.norm(vocab_en[\"we're\"]),torch.norm(vocab_en[\"we\"]),torch.norm(vocab_en[\"'\"]),torch.norm(vocab_en[\"re\"]))\n",
    "# example 3b\n",
    "print(torch.norm(vocab_fr[\"puisqu'il\"]),torch.norm(vocab_fr[\"puisqu'\"]), torch.norm(vocab_fr[\"puisqu\"]), torch.norm(vocab_fr[\"'\"]), torch.norm(vocab_fr[\"il\"]))"
   ]
  },
  {
   "cell_type": "markdown",
   "id": "837e6d6c",
   "metadata": {
    "papermill": {
     "duration": 0.009609,
     "end_time": "2023-10-05T21:32:44.870679",
     "exception": false,
     "start_time": "2023-10-05T21:32:44.861070",
     "status": "completed"
    },
    "tags": []
   },
   "source": [
    "#### French word-list"
   ]
  },
  {
   "cell_type": "markdown",
   "id": "87e82ecf",
   "metadata": {
    "papermill": {
     "duration": 0.009594,
     "end_time": "2023-10-05T21:32:44.889803",
     "exception": false,
     "start_time": "2023-10-05T21:32:44.880209",
     "status": "completed"
    },
    "tags": []
   },
   "source": [
    "Importing a previously prepared list of French words as a Pandas Series and truncating to `num_fr_words` words."
   ]
  },
  {
   "cell_type": "code",
   "execution_count": 7,
   "id": "ca753b7f",
   "metadata": {
    "execution": {
     "iopub.execute_input": "2023-10-05T21:32:44.910260Z",
     "iopub.status.busy": "2023-10-05T21:32:44.909727Z",
     "iopub.status.idle": "2023-10-05T21:32:44.936128Z",
     "shell.execute_reply": "2023-10-05T21:32:44.935288Z"
    },
    "papermill": {
     "duration": 0.038523,
     "end_time": "2023-10-05T21:32:44.938046",
     "exception": false,
     "start_time": "2023-10-05T21:32:44.899523",
     "status": "completed"
    },
    "tags": []
   },
   "outputs": [],
   "source": [
    "fr_wordlst = pd.read_csv(\"/kaggle/input/list-of-french-words/french_counter.txt\").iloc[:num_fr_words,1]"
   ]
  },
  {
   "cell_type": "markdown",
   "id": "dfefa50d",
   "metadata": {
    "papermill": {
     "duration": 0.009777,
     "end_time": "2023-10-05T21:32:44.957687",
     "exception": false,
     "start_time": "2023-10-05T21:32:44.947910",
     "status": "completed"
    },
    "tags": []
   },
   "source": [
    "#### Encoder and decoder stacks\n",
    "\n",
    "The encoder and decoder stacks  are conveniently available as a pre-implemented module in PyTorch."
   ]
  },
  {
   "cell_type": "code",
   "execution_count": 8,
   "id": "53305c89",
   "metadata": {
    "execution": {
     "iopub.execute_input": "2023-10-05T21:32:44.978497Z",
     "iopub.status.busy": "2023-10-05T21:32:44.977936Z",
     "iopub.status.idle": "2023-10-05T21:32:45.381612Z",
     "shell.execute_reply": "2023-10-05T21:32:45.380206Z"
    },
    "papermill": {
     "duration": 0.416504,
     "end_time": "2023-10-05T21:32:45.383831",
     "exception": false,
     "start_time": "2023-10-05T21:32:44.967327",
     "status": "completed"
    },
    "tags": []
   },
   "outputs": [
    {
     "name": "stdout",
     "output_type": "stream",
     "text": [
      "torch.Size([1, 300])\n",
      "torch.Size([8, 300])\n",
      "torch.Size([10, 4, 300])\n"
     ]
    }
   ],
   "source": [
    "enc_dec = torch.nn.Transformer(d_model=emb_size, nhead=nhead, num_encoder_layers=n_layers, num_decoder_layers=n_layers,\n",
    "                               dim_feedforward = dim_feedforward, dropout=dropout, batch_first=True)\n",
    "# Examples: unbatched data\n",
    "src = torch.rand((N_in,emb_size)) # Input into encoder\n",
    "tgt = torch.rand((1,emb_size)) # Input into decoder\n",
    "print(enc_dec(src,tgt).shape)\n",
    "src = torch.rand((N_in,emb_size))\n",
    "tgt = torch.rand((8,emb_size))\n",
    "print(enc_dec(src,tgt).shape)\n",
    "# Examples: unbatched data\n",
    "nbatch = 10\n",
    "src = torch.rand((nbatch,N_in,emb_size)) \n",
    "tgt = torch.rand((nbatch,4,emb_size))\n",
    "print(enc_dec(src,tgt).shape)\n"
   ]
  },
  {
   "cell_type": "markdown",
   "id": "79cd7618",
   "metadata": {
    "papermill": {
     "duration": 0.00996,
     "end_time": "2023-10-05T21:32:45.404829",
     "exception": false,
     "start_time": "2023-10-05T21:32:45.394869",
     "status": "completed"
    },
    "tags": []
   },
   "source": [
    "#### Construction of model"
   ]
  },
  {
   "cell_type": "code",
   "execution_count": 9,
   "id": "220af689",
   "metadata": {
    "execution": {
     "iopub.execute_input": "2023-10-05T21:32:45.427032Z",
     "iopub.status.busy": "2023-10-05T21:32:45.426690Z",
     "iopub.status.idle": "2023-10-05T21:32:45.441569Z",
     "shell.execute_reply": "2023-10-05T21:32:45.440638Z"
    },
    "papermill": {
     "duration": 0.028379,
     "end_time": "2023-10-05T21:32:45.443454",
     "exception": false,
     "start_time": "2023-10-05T21:32:45.415075",
     "status": "completed"
    },
    "tags": []
   },
   "outputs": [],
   "source": [
    "class TranslationSystem(nn.Module):\n",
    "    \n",
    "    def __init__(self, fr_wordlst, # List of French words \n",
    "                       N_in = 7, # Length of input sentences\n",
    "                       N_out = 8, # Length of output sentences\n",
    "                       emb_size = 300, # Size of embedded vectors\n",
    "                       n_layers = 6, # Number of layers for encoder and decoder stacks\n",
    "                       nhead = 6, # Number of heads in multihead attention layers\n",
    "                       dim_feedforward = 1024, # Number of hidden neurons in positionwise-FCNN \n",
    "                       dim_out_hidden = 1024, # Number of hidden neurons in output FCNN\n",
    "                       dropout = 0.1 # Dropout value\n",
    "                ):\n",
    "        super(TranslationSystem,self).__init__()\n",
    "        \n",
    "        self._num_fr_words = len(fr_wordlst)\n",
    "        self._wordlst_full = pd.concat([fr_wordlst, pd.Series(['<eos>'])],ignore_index=True)\n",
    "        self.bos_vec = 2*torch.ones(emb_size)\n",
    "        \n",
    "        self.enc_dec = torch.nn.Transformer(d_model=emb_size, nhead=nhead, num_encoder_layers=n_layers, num_decoder_layers=n_layers,\n",
    "                               dim_feedforward = dim_feedforward, dropout=dropout, batch_first=True)\n",
    "        \n",
    "        self.fc_out1 = nn.Linear(emb_size,dim_out_hidden)\n",
    "        self.fc_out2 = nn.Linear(dim_out_hidden,self._num_fr_words + 1)\n",
    "        \n",
    "    def forward(self,X, Y):\n",
    "        '''\n",
    "        Outputs a logit probability distribution (pre-softmax) over `fr_wordlst` given batch of pre-embedded sentences.\n",
    "        `X`: Input\n",
    "        `Y`: Partial output (including <bos> token)\n",
    "        '''\n",
    "        out_seq = self.enc_dec(X,Y)\n",
    "        a1 = F.relu(self.fc_out1(out_seq[:,-1,:]))\n",
    "        logits = self.fc_out2(a1)\n",
    "        return logits\n",
    "    \n",
    "    @staticmethod\n",
    "    def pre_process(sent):\n",
    "        '''\n",
    "        Pre-processing pipeline from data preparation\n",
    "        '''\n",
    "        sent = sent.lower() # Make data lowercase\n",
    "        sent = sent.replace('.','').replace('!','') # Remove full stops and exclamation marks.\n",
    "        sent = sent.replace('?',' ? ').replace(',',' , ') # Replace \"?\" by \" ? \" and \",\" by \" , \"\n",
    "        sent = sent.replace('-',' - ').replace(\"'\",\" ' \") # Replace \"-\" by \" - \" and \"'\" by \" ' \"\n",
    "        sent = re.sub('\\xa0|\\xad|\\u2009|\\u200b|\\u202f',' ', sent) # Replace unbreakable spaces by spaces.\n",
    "        sent = re.sub('   ',' ', sent) # Removing triple spaces\n",
    "        sent = re.sub('  ',' ', sent)  # Removing double spaces\n",
    "        sent = re.sub('^ ','', sent) # remove leading space\n",
    "        sent = re.sub(' $','', sent) # remove trailing space\n",
    "        return sent\n",
    "    \n",
    "    def next_word(self, sent_en, sent_fr, vocab_en = vocab_en, vocab_fr = vocab_fr):\n",
    "        '''\n",
    "        Outputs the next word of the French translation given a single English-French sentence pair\n",
    "        '''\n",
    "        sent_en = self.pre_process(sent_en); sent_fr = self.pre_process(sent_fr)\n",
    "        X_raw = vocab_en.get_vecs_by_tokens(sent_en.split(' '))\n",
    "        pad_seq = - 2*torch.ones(N_in - X_raw.shape[0],emb_size)\n",
    "        X = torch.concat([X_raw, pad_seq],dim=0).reshape(1,N_in,emb_size) # append <pad> vectors\n",
    "        Y_raw = vocab_fr.get_vecs_by_tokens(sent_fr.split(' '))\n",
    "        Y = torch.concat([self.bos_vec.unsqueeze(dim=0),Y_raw],dim=0).unsqueeze(dim=0) # prepend <bos> vector\n",
    "        idx_maxprob = torch.argmax(self.forward(X,Y)).item()\n",
    "        return self._wordlst_full.iloc[idx_maxprob]\n",
    "    \n",
    "    def translate(self, sent_en, vocab_en = vocab_en, vocab_fr = vocab_fr):\n",
    "        '''\n",
    "        Outputs the French translation of a single English sentence\n",
    "        '''\n",
    "        sent_en = self.pre_process(sent_en)\n",
    "        sent_fr = ''\n",
    "        X_raw = vocab_en.get_vecs_by_tokens(sent_en.split(' '))\n",
    "        pad_seq = - 2*torch.ones(N_in - X_raw.shape[0],emb_size)\n",
    "        X = torch.concat([X_raw, pad_seq],dim=0).reshape(1,N_in,emb_size) # append <pad> vectors\n",
    "        Y = self.bos_vec.reshape(1,1,emb_size)\n",
    "        for n in range(N_out):\n",
    "            idx_maxprob = torch.argmax(self.forward(X,Y)).item()\n",
    "            next_word_str = self._wordlst_full.iloc[idx_maxprob]\n",
    "            if next_word_str == '<eos>':\n",
    "                break\n",
    "            sent_fr += ' ' + next_word_str\n",
    "            next_word_vec = vocab_fr[next_word_str]\n",
    "            Y = torch.concat([Y,next_word_vec.reshape(1,1,emb_size)],dim = 1)\n",
    "        sent_fr = sent_fr[1:] # Removes leading space\n",
    "        return sent_fr\n"
   ]
  },
  {
   "cell_type": "code",
   "execution_count": 10,
   "id": "0c758419",
   "metadata": {
    "execution": {
     "iopub.execute_input": "2023-10-05T21:32:45.465235Z",
     "iopub.status.busy": "2023-10-05T21:32:45.464473Z",
     "iopub.status.idle": "2023-10-05T21:32:45.686732Z",
     "shell.execute_reply": "2023-10-05T21:32:45.685441Z"
    },
    "papermill": {
     "duration": 0.235215,
     "end_time": "2023-10-05T21:32:45.688689",
     "exception": false,
     "start_time": "2023-10-05T21:32:45.453474",
     "status": "completed"
    },
    "tags": []
   },
   "outputs": [
    {
     "name": "stdout",
     "output_type": "stream",
     "text": [
      "torch.Size([2, 2001])\n"
     ]
    }
   ],
   "source": [
    "# Test forward\n",
    "model = TranslationSystem(fr_wordlst)\n",
    "src = torch.rand((2,N_in,emb_size)) # Input into encoder\n",
    "tgt = torch.rand((2,4,emb_size)) # Input into decoder\n",
    "probs = model(src,tgt)\n",
    "print(probs.shape)"
   ]
  },
  {
   "cell_type": "code",
   "execution_count": 11,
   "id": "ca8460a2",
   "metadata": {
    "execution": {
     "iopub.execute_input": "2023-10-05T21:32:45.710211Z",
     "iopub.status.busy": "2023-10-05T21:32:45.709440Z",
     "iopub.status.idle": "2023-10-05T21:32:45.715577Z",
     "shell.execute_reply": "2023-10-05T21:32:45.714511Z"
    },
    "papermill": {
     "duration": 0.01876,
     "end_time": "2023-10-05T21:32:45.717340",
     "exception": false,
     "start_time": "2023-10-05T21:32:45.698580",
     "status": "completed"
    },
    "tags": []
   },
   "outputs": [
    {
     "name": "stdout",
     "output_type": "stream",
     "text": [
      "hello , we ' re testing\n"
     ]
    }
   ],
   "source": [
    "# Test pre_process\n",
    "print(TranslationSystem.pre_process(\"Hello, we're  testing \"))"
   ]
  },
  {
   "cell_type": "code",
   "execution_count": 12,
   "id": "c8005651",
   "metadata": {
    "execution": {
     "iopub.execute_input": "2023-10-05T21:32:45.739354Z",
     "iopub.status.busy": "2023-10-05T21:32:45.738483Z",
     "iopub.status.idle": "2023-10-05T21:32:45.962402Z",
     "shell.execute_reply": "2023-10-05T21:32:45.961482Z"
    },
    "papermill": {
     "duration": 0.23708,
     "end_time": "2023-10-05T21:32:45.964373",
     "exception": false,
     "start_time": "2023-10-05T21:32:45.727293",
     "status": "completed"
    },
    "tags": []
   },
   "outputs": [
    {
     "data": {
      "text/plain": [
       "'sort'"
      ]
     },
     "execution_count": 12,
     "metadata": {},
     "output_type": "execute_result"
    }
   ],
   "source": [
    "# Test next_word \n",
    "model = TranslationSystem(fr_wordlst)\n",
    "model.next_word('there is a car', 'il y a')"
   ]
  },
  {
   "cell_type": "code",
   "execution_count": 13,
   "id": "a3624e87",
   "metadata": {
    "execution": {
     "iopub.execute_input": "2023-10-05T21:32:45.985812Z",
     "iopub.status.busy": "2023-10-05T21:32:45.985528Z",
     "iopub.status.idle": "2023-10-05T21:32:46.409710Z",
     "shell.execute_reply": "2023-10-05T21:32:46.408725Z"
    },
    "papermill": {
     "duration": 0.437087,
     "end_time": "2023-10-05T21:32:46.411654",
     "exception": false,
     "start_time": "2023-10-05T21:32:45.974567",
     "status": "completed"
    },
    "tags": []
   },
   "outputs": [
    {
     "data": {
      "text/plain": [
       "'stylo salon chanter chanter chanter venir pleure court'"
      ]
     },
     "execution_count": 13,
     "metadata": {},
     "output_type": "execute_result"
    }
   ],
   "source": [
    "# Test translate\n",
    "model = TranslationSystem(fr_wordlst)\n",
    "model.translate('there is a car')"
   ]
  },
  {
   "cell_type": "markdown",
   "id": "5443c615",
   "metadata": {
    "papermill": {
     "duration": 0.010082,
     "end_time": "2023-10-05T21:32:46.432387",
     "exception": false,
     "start_time": "2023-10-05T21:32:46.422305",
     "status": "completed"
    },
    "tags": []
   },
   "source": [
    "## Importing dataset"
   ]
  },
  {
   "cell_type": "markdown",
   "id": "3c83cf7c",
   "metadata": {
    "papermill": {
     "duration": 0.009832,
     "end_time": "2023-10-05T21:32:46.452634",
     "exception": false,
     "start_time": "2023-10-05T21:32:46.442802",
     "status": "completed"
    },
    "tags": []
   },
   "source": [
    "First, we import a previously prepared dataset consisting of English-French sentence pairs (see the notebook \"Transformers-EnFr-DatasetCleaning\")."
   ]
  },
  {
   "cell_type": "code",
   "execution_count": 14,
   "id": "896567f6",
   "metadata": {
    "execution": {
     "iopub.execute_input": "2023-10-05T21:32:46.474422Z",
     "iopub.status.busy": "2023-10-05T21:32:46.473513Z",
     "iopub.status.idle": "2023-10-05T21:32:46.624451Z",
     "shell.execute_reply": "2023-10-05T21:32:46.623511Z"
    },
    "papermill": {
     "duration": 0.163763,
     "end_time": "2023-10-05T21:32:46.626455",
     "exception": false,
     "start_time": "2023-10-05T21:32:46.462692",
     "status": "completed"
    },
    "tags": []
   },
   "outputs": [
    {
     "data": {
      "text/html": [
       "<div>\n",
       "<style scoped>\n",
       "    .dataframe tbody tr th:only-of-type {\n",
       "        vertical-align: middle;\n",
       "    }\n",
       "\n",
       "    .dataframe tbody tr th {\n",
       "        vertical-align: top;\n",
       "    }\n",
       "\n",
       "    .dataframe thead th {\n",
       "        text-align: right;\n",
       "    }\n",
       "</style>\n",
       "<table border=\"1\" class=\"dataframe\">\n",
       "  <thead>\n",
       "    <tr style=\"text-align: right;\">\n",
       "      <th></th>\n",
       "      <th>En</th>\n",
       "      <th>Fr</th>\n",
       "    </tr>\n",
       "  </thead>\n",
       "  <tbody>\n",
       "    <tr>\n",
       "      <th>0</th>\n",
       "      <td>go</td>\n",
       "      <td>va</td>\n",
       "    </tr>\n",
       "    <tr>\n",
       "      <th>1</th>\n",
       "      <td>hi</td>\n",
       "      <td>salut</td>\n",
       "    </tr>\n",
       "    <tr>\n",
       "      <th>2</th>\n",
       "      <td>run</td>\n",
       "      <td>cours</td>\n",
       "    </tr>\n",
       "    <tr>\n",
       "      <th>3</th>\n",
       "      <td>who ?</td>\n",
       "      <td>qui ?</td>\n",
       "    </tr>\n",
       "    <tr>\n",
       "      <th>4</th>\n",
       "      <td>wow</td>\n",
       "      <td>ça alors</td>\n",
       "    </tr>\n",
       "    <tr>\n",
       "      <th>...</th>\n",
       "      <td>...</td>\n",
       "      <td>...</td>\n",
       "    </tr>\n",
       "    <tr>\n",
       "      <th>53864</th>\n",
       "      <td>his helplessness appeals to her motherly sympathy</td>\n",
       "      <td>son impuissance éveille sa compassion maternelle</td>\n",
       "    </tr>\n",
       "    <tr>\n",
       "      <th>53865</th>\n",
       "      <td>the conflict began over a simple misunderstanding</td>\n",
       "      <td>le conflit commença sur un simple malentendu</td>\n",
       "    </tr>\n",
       "    <tr>\n",
       "      <th>53866</th>\n",
       "      <td>the students divided themselves into three groups</td>\n",
       "      <td>les étudiants se divisèrent en trois groupes</td>\n",
       "    </tr>\n",
       "    <tr>\n",
       "      <th>53867</th>\n",
       "      <td>draw two concentric circles of differing diame...</td>\n",
       "      <td>tracez deux cercles concentriques de diamètres...</td>\n",
       "    </tr>\n",
       "    <tr>\n",
       "      <th>53868</th>\n",
       "      <td>an undercover operative infiltrated the organi...</td>\n",
       "      <td>un agent secret infiltra l ' organisation</td>\n",
       "    </tr>\n",
       "  </tbody>\n",
       "</table>\n",
       "<p>53869 rows × 2 columns</p>\n",
       "</div>"
      ],
      "text/plain": [
       "                                                      En  \\\n",
       "0                                                     go   \n",
       "1                                                     hi   \n",
       "2                                                    run   \n",
       "3                                                  who ?   \n",
       "4                                                    wow   \n",
       "...                                                  ...   \n",
       "53864  his helplessness appeals to her motherly sympathy   \n",
       "53865  the conflict began over a simple misunderstanding   \n",
       "53866  the students divided themselves into three groups   \n",
       "53867  draw two concentric circles of differing diame...   \n",
       "53868  an undercover operative infiltrated the organi...   \n",
       "\n",
       "                                                      Fr  \n",
       "0                                                     va  \n",
       "1                                                  salut  \n",
       "2                                                  cours  \n",
       "3                                                  qui ?  \n",
       "4                                               ça alors  \n",
       "...                                                  ...  \n",
       "53864   son impuissance éveille sa compassion maternelle  \n",
       "53865       le conflit commença sur un simple malentendu  \n",
       "53866       les étudiants se divisèrent en trois groupes  \n",
       "53867  tracez deux cercles concentriques de diamètres...  \n",
       "53868          un agent secret infiltra l ' organisation  \n",
       "\n",
       "[53869 rows x 2 columns]"
      ]
     },
     "execution_count": 14,
     "metadata": {},
     "output_type": "execute_result"
    }
   ],
   "source": [
    "dataset_str = pd.read_csv(\"/kaggle/input/enfr-cleaned/EnFr_cleaned.txt\").iloc[:,1:]\n",
    "dataset_str"
   ]
  },
  {
   "cell_type": "markdown",
   "id": "2492cd97",
   "metadata": {
    "papermill": {
     "duration": 0.010099,
     "end_time": "2023-10-05T21:32:46.647048",
     "exception": false,
     "start_time": "2023-10-05T21:32:46.636949",
     "status": "completed"
    },
    "tags": []
   },
   "source": [
    "Importing embedded sentences pairs, with appropriate padding and with `<bos>` prepended to the French token sequences."
   ]
  },
  {
   "cell_type": "code",
   "execution_count": 15,
   "id": "ad47a7e9",
   "metadata": {
    "execution": {
     "iopub.execute_input": "2023-10-05T21:32:46.669837Z",
     "iopub.status.busy": "2023-10-05T21:32:46.668908Z",
     "iopub.status.idle": "2023-10-05T21:32:53.829880Z",
     "shell.execute_reply": "2023-10-05T21:32:53.828827Z"
    },
    "papermill": {
     "duration": 7.174612,
     "end_time": "2023-10-05T21:32:53.832225",
     "exception": false,
     "start_time": "2023-10-05T21:32:46.657613",
     "status": "completed"
    },
    "tags": []
   },
   "outputs": [],
   "source": [
    "X_en, X_fr  = torch.load('/kaggle/input/tensorised-enfr-sentence-pairs/EnFr_tensors.pt').tensors"
   ]
  },
  {
   "cell_type": "markdown",
   "id": "a631d195",
   "metadata": {
    "papermill": {
     "duration": 0.010081,
     "end_time": "2023-10-05T21:32:53.853026",
     "exception": false,
     "start_time": "2023-10-05T21:32:53.842945",
     "status": "completed"
    },
    "tags": []
   },
   "source": [
    "Creating the target data: the sequence of indices in the French word list corresponding to each French sentence. The target data shall differ between the cases of training models with and without terminations.\n",
    "\n",
    "When training models with termination, the target set is denoted by `Ystop` and shall run over indices `[0,...,2001]` with index 2000 marking padding tokens. We mark unknown words (words not in `fr_wordlst`) the index 2001, which shall act as an \"ignore\" index in this case (datapoints with this target index won't contribute to the cost function).\n",
    "\n",
    "When training models without termination, the target set is denoted by `Ycont` and shall run over indices `[0,...,2000]`, where we mark both padding tokens and unknown with an \"ignore\" index 2000.\n"
   ]
  },
  {
   "cell_type": "code",
   "execution_count": 16,
   "id": "e4599659",
   "metadata": {
    "execution": {
     "iopub.execute_input": "2023-10-05T21:32:53.875209Z",
     "iopub.status.busy": "2023-10-05T21:32:53.874631Z",
     "iopub.status.idle": "2023-10-05T21:32:53.891278Z",
     "shell.execute_reply": "2023-10-05T21:32:53.890125Z"
    },
    "papermill": {
     "duration": 0.029688,
     "end_time": "2023-10-05T21:32:53.893049",
     "exception": false,
     "start_time": "2023-10-05T21:32:53.863361",
     "status": "completed"
    },
    "tags": []
   },
   "outputs": [
    {
     "name": "stdout",
     "output_type": "stream",
     "text": [
      "tensor([   0,   36, 2001,   13,   58, 2000, 2000, 2000])\n"
     ]
    }
   ],
   "source": [
    "# Example \n",
    "sentence = 'je suis blahblah une personne'\n",
    "wordlst_full = pd.concat([fr_wordlst, pd.Series(['<eos>','<unk>'])],ignore_index=True)\n",
    "word_to_idx = {v: k for k, v in dict(wordlst_full).items()}\n",
    "seq_short = torch.tensor([word_to_idx.get(word,2001) for word in sentence.split(' ')])\n",
    "seq = torch.concat([seq_short,2000*torch.ones(N_out - len(seq_short), dtype = torch.int64)])\n",
    "print(seq)"
   ]
  },
  {
   "cell_type": "code",
   "execution_count": 17,
   "id": "de42ad38",
   "metadata": {
    "execution": {
     "iopub.execute_input": "2023-10-05T21:32:53.915059Z",
     "iopub.status.busy": "2023-10-05T21:32:53.914546Z",
     "iopub.status.idle": "2023-10-05T21:33:05.293388Z",
     "shell.execute_reply": "2023-10-05T21:33:05.292399Z"
    },
    "papermill": {
     "duration": 11.392047,
     "end_time": "2023-10-05T21:33:05.295516",
     "exception": false,
     "start_time": "2023-10-05T21:32:53.903469",
     "status": "completed"
    },
    "tags": []
   },
   "outputs": [
    {
     "name": "stderr",
     "output_type": "stream",
     "text": [
      "100%|██████████| 53868/53868 [00:11<00:00, 4740.80it/s]\n"
     ]
    }
   ],
   "source": [
    "wordlst_full = pd.concat([fr_wordlst, pd.Series(['<eos>','<unk>'])],ignore_index=True)\n",
    "word_to_idx = {v: k for k, v in dict(wordlst_full).items()}\n",
    "sentence = dataset_str.Fr.iloc[0]\n",
    "seq_short = torch.tensor([word_to_idx.get(word,2001) for word in sentence.split(' ')])\n",
    "seq = torch.concat([seq_short,2000*torch.ones(N_out - len(seq_short), dtype = torch.int64)])\n",
    "Y = seq.unsqueeze(0)\n",
    "for sentence in tqdm(dataset_str.Fr.iloc[1:]):\n",
    "    seq_short = torch.tensor([word_to_idx.get(word,2001) for word in sentence.split(' ')])\n",
    "    seq = torch.concat([seq_short,2000*torch.ones(N_out - len(seq_short), dtype = torch.int64)])\n",
    "    Y = torch.concat([Y, seq.unsqueeze(0)], dim = 0)\n",
    "    "
   ]
  },
  {
   "cell_type": "markdown",
   "id": "d65af263",
   "metadata": {
    "papermill": {
     "duration": 0.015657,
     "end_time": "2023-10-05T21:33:05.327106",
     "exception": false,
     "start_time": "2023-10-05T21:33:05.311449",
     "status": "completed"
    },
    "tags": []
   },
   "source": [
    "Creating a PyTorch dataset structure encompassing the embedded English sentences, embedded French sentences, index sequences for the French sentences and the original index of the sentence pair (for reference back to the non-embedded dataset `dataset_str` after randomised test-train split)."
   ]
  },
  {
   "cell_type": "code",
   "execution_count": 18,
   "id": "f9fd77f2",
   "metadata": {
    "execution": {
     "iopub.execute_input": "2023-10-05T21:33:05.359471Z",
     "iopub.status.busy": "2023-10-05T21:33:05.358826Z",
     "iopub.status.idle": "2023-10-05T21:33:05.365733Z",
     "shell.execute_reply": "2023-10-05T21:33:05.364842Z"
    },
    "papermill": {
     "duration": 0.024975,
     "end_time": "2023-10-05T21:33:05.367545",
     "exception": false,
     "start_time": "2023-10-05T21:33:05.342570",
     "status": "completed"
    },
    "tags": []
   },
   "outputs": [],
   "source": [
    "class SentencePairs(Dataset):\n",
    "    def __init__(self, X_en, X_fr, Y):\n",
    "        assert X_en.shape[0] ==  X_fr.shape[0] ==  Y.shape[0]\n",
    "        self.X_en = X_en\n",
    "        self.X_fr = X_fr\n",
    "        self.Y = Y\n",
    "        self.original_index = torch.tensor(range(self.Y.shape[0]))\n",
    "    \n",
    "    def __len__(self):\n",
    "        return self.Y.shape[0]\n",
    "    \n",
    "    def __getitem__(self, index):\n",
    "        return self.X_en[index,:,:], self.X_fr[index,:,:], self.Y[index,:], self.original_index[index]\n",
    "    "
   ]
  },
  {
   "cell_type": "markdown",
   "id": "3348fa5d",
   "metadata": {
    "papermill": {
     "duration": 0.015186,
     "end_time": "2023-10-05T21:33:05.397800",
     "exception": false,
     "start_time": "2023-10-05T21:33:05.382614",
     "status": "completed"
    },
    "tags": []
   },
   "source": [
    "Initialising the dataset and performing a test-train split with 80% training data."
   ]
  },
  {
   "cell_type": "code",
   "execution_count": 19,
   "id": "cb2bd09f",
   "metadata": {
    "execution": {
     "iopub.execute_input": "2023-10-05T21:33:05.430472Z",
     "iopub.status.busy": "2023-10-05T21:33:05.429613Z",
     "iopub.status.idle": "2023-10-05T21:33:05.455998Z",
     "shell.execute_reply": "2023-10-05T21:33:05.455105Z"
    },
    "papermill": {
     "duration": 0.044931,
     "end_time": "2023-10-05T21:33:05.457929",
     "exception": false,
     "start_time": "2023-10-05T21:33:05.412998",
     "status": "completed"
    },
    "tags": []
   },
   "outputs": [],
   "source": [
    "dataset = SentencePairs(X_en, X_fr, Y)\n",
    "trainset, valset = torch.utils.data.random_split(dataset, [0.8, 0.2])\n"
   ]
  },
  {
   "cell_type": "markdown",
   "id": "c4cf1682",
   "metadata": {
    "papermill": {
     "duration": 0.01516,
     "end_time": "2023-10-05T21:33:05.488859",
     "exception": false,
     "start_time": "2023-10-05T21:33:05.473699",
     "status": "completed"
    },
    "tags": []
   },
   "source": [
    "## Training loop"
   ]
  },
  {
   "cell_type": "markdown",
   "id": "8656d511",
   "metadata": {
    "papermill": {
     "duration": 0.015184,
     "end_time": "2023-10-05T21:33:05.519690",
     "exception": false,
     "start_time": "2023-10-05T21:33:05.504506",
     "status": "completed"
    },
    "tags": []
   },
   "source": [
    "Main training loop:"
   ]
  },
  {
   "cell_type": "code",
   "execution_count": 20,
   "id": "722fc744",
   "metadata": {
    "execution": {
     "iopub.execute_input": "2023-10-05T21:33:05.550784Z",
     "iopub.status.busy": "2023-10-05T21:33:05.550471Z",
     "iopub.status.idle": "2023-10-05T21:33:05.566584Z",
     "shell.execute_reply": "2023-10-05T21:33:05.565513Z"
    },
    "papermill": {
     "duration": 0.033802,
     "end_time": "2023-10-05T21:33:05.568316",
     "exception": false,
     "start_time": "2023-10-05T21:33:05.534514",
     "status": "completed"
    },
    "tags": []
   },
   "outputs": [],
   "source": [
    "def give_cost_0(dataset, model, loss_fn):\n",
    "    'Cost for predicting first word (for evaluation while training)'\n",
    "    dataloader = torch.utils.data.DataLoader(dataset, batch_size=64)\n",
    "    cost = 0\n",
    "    for X_en, X_fr, Y, idx in dataloader:\n",
    "        X_en =  X_en.to(device); X_fr =  X_fr.to(device); Y =  Y.to(device)\n",
    "        N = 0 \n",
    "        Xfr_trunc = X_fr[:,:N+1,:] \n",
    "        outputs = model(X_en,Xfr_trunc)\n",
    "        labels = Y[:,N]\n",
    "        loss = loss_fn(outputs,labels) \n",
    "        cost += loss.item()\n",
    "    return cost/len(dataloader)\n",
    "\n",
    "def give_cost_all(dataset, model):\n",
    "    'Costs for predicting all word (for final evaluation)' \n",
    "    dataloader = torch.utils.data.DataLoader(dataset, batch_size=64)\n",
    "    ignore_index = 2001\n",
    "    loss_fn = nn.CrossEntropyLoss(ignore_index=ignore_index) \n",
    "    \n",
    "    cost_lst = [0 for N in range(N_out)]\n",
    "    for X_en, X_fr, Y, idx in tqdm(dataloader):\n",
    "        X_en =  X_en.to(device); X_fr =  X_fr.to(device); Y =  Y.to(device)\n",
    "        for N in range(N_out):\n",
    "            Xfr_trunc = X_fr[:,:N+1,:] \n",
    "            outputs = model(X_en,Xfr_trunc)\n",
    "            labels = Y[:,N]\n",
    "            loss = loss_fn(outputs,labels) \n",
    "            if loss.item() > 0:\n",
    "                cost_lst[N] += loss.item()\n",
    "    return [cost/len(dataloader) for cost in cost_lst]\n",
    "\n",
    "\n",
    "def train(model, optimiser, n_epochs, batch_size, train_set, val_set, device, printing):\n",
    "    dataloader = torch.utils.data.DataLoader(train_set, batch_size=batch_size)\n",
    "    ignore_index = 2001\n",
    "    loss_fn = nn.CrossEntropyLoss(ignore_index=ignore_index) \n",
    "    \n",
    "    start = time()\n",
    "    \n",
    "    cost_hist = {N : [] for N in range(N_out + 1)}\n",
    "    run_train_hist = []\n",
    "\n",
    "    # Initial validation cost\n",
    "    start_val_cost = give_cost_0(val_set, model, loss_fn)\n",
    "    val_hist = [start_val_cost]\n",
    "    print('Initial validation cost: ', start_val_cost)\n",
    "    \n",
    "    best_model = model\n",
    "    best_epoch = (0,start_val_cost)\n",
    "    step = 0\n",
    "    for n in range(n_epochs):\n",
    "        epoch_train_cost = 0\n",
    "        for X_en, X_fr, Y, idx in dataloader:\n",
    "            X_en =  X_en.to(device); X_fr =  X_fr.to(device); Y =  Y.to(device)\n",
    "            \n",
    "            # Generate random value of N according to skewed distribution\n",
    "            N = np.random.randint(N_out - 1)\n",
    "            # Take first N + 1 tokens in French sentences (including <bos>) \n",
    "            Xfr_trunc = X_fr[:,:N+1,:]\n",
    "            \n",
    "            # Training step\n",
    "            optimiser.zero_grad()\n",
    "            outputs = model(X_en,Xfr_trunc)\n",
    "            labels = Y[:,N]\n",
    "            loss = loss_fn(outputs,labels)\n",
    "            loss.backward()\n",
    "            optimiser.step()\n",
    "\n",
    "            # Bookkeeping\n",
    "            cost_hist[N].append((loss.item(),step))\n",
    "            if loss.item() > 0:\n",
    "                epoch_train_cost += loss.item()\n",
    "            step += 1\n",
    "            \n",
    "        epoch_train_cost /= len(dataloader)\n",
    "        run_train_hist.append(epoch_train_cost)\n",
    "        epoch_val_cost = give_cost_0(val_set, model, loss_fn)\n",
    "        val_hist.append(epoch_val_cost)\n",
    "        if epoch_val_cost < best_epoch[1]:\n",
    "            best_model = model\n",
    "            best_epoch = (n+1, epoch_val_cost)\n",
    "        if printing == True:\n",
    "            print(f'Epoch {n + 1}. Train cost: {epoch_train_cost}. Val cost: {epoch_val_cost}')    \n",
    "    end = time()\n",
    "    print(f'Best epoch: {best_epoch[0]}')\n",
    "    print(f'Time taken: {end - start} seconds')\n",
    "    \n",
    "    return cost_hist, run_train_hist, val_hist, best_model, best_epoch\n",
    "\n",
    "def run_tests(model,cost_hist, run_train_hist, val_hist):\n",
    "    plt.plot(run_train_hist, label = 'train')\n",
    "    plt.plot(val_hist, label = 'val')\n",
    "    plt.title('epoch training curve')\n",
    "    plt.legend()\n",
    "    plt.show()\n",
    "    model.to(device='cpu')\n",
    "    print('This is a sentence: ', model.translate('This is a sentence'))\n",
    "    print('another test: ', model.translate('another test'))\n",
    "    print('just one more: ', model.translate('just one more'))\n"
   ]
  },
  {
   "cell_type": "markdown",
   "id": "9d7f32a5",
   "metadata": {
    "papermill": {
     "duration": 0.015168,
     "end_time": "2023-10-05T21:33:05.598755",
     "exception": false,
     "start_time": "2023-10-05T21:33:05.583587",
     "status": "completed"
    },
    "tags": []
   },
   "source": [
    "## Training\n"
   ]
  },
  {
   "cell_type": "code",
   "execution_count": 21,
   "id": "4fc78531",
   "metadata": {
    "execution": {
     "iopub.execute_input": "2023-10-05T21:33:05.633709Z",
     "iopub.status.busy": "2023-10-05T21:33:05.632775Z",
     "iopub.status.idle": "2023-10-06T01:20:36.385764Z",
     "shell.execute_reply": "2023-10-06T01:20:36.384759Z"
    },
    "papermill": {
     "duration": 13650.772642,
     "end_time": "2023-10-06T01:20:36.387803",
     "exception": false,
     "start_time": "2023-10-05T21:33:05.615161",
     "status": "completed"
    },
    "tags": []
   },
   "outputs": [
    {
     "name": "stdout",
     "output_type": "stream",
     "text": [
      "Initial validation cost:  7.659948303854677\n",
      "Best epoch: 89\n",
      "Time taken: 13623.551284313202 seconds\n"
     ]
    },
    {
     "name": "stderr",
     "output_type": "stream",
     "text": [
      "100%|██████████| 169/169 [00:22<00:00,  7.58it/s]\n"
     ]
    },
    {
     "name": "stdout",
     "output_type": "stream",
     "text": [
      "End validation costs:  [1.2098996408239624, 1.479899604292311, 1.7023527102004847, 1.7559742994562408, 1.3643361139579637, 0.9644898562389013, 0.30148190475301817, 0.02218202273821283]\n",
      "sum:  8.800616152461094\n"
     ]
    },
    {
     "data": {
      "image/png": "[encoded data removed]",
      "text/plain": [
       "<Figure size 640x480 with 1 Axes>"
      ]
     },
     "metadata": {},
     "output_type": "display_data"
    },
    {
     "name": "stdout",
     "output_type": "stream",
     "text": [
      "This is a sentence:  ceci est une phrase\n",
      "another test:  fais un autre problème\n",
      "just one more:  en simplement un simplement\n"
     ]
    }
   ],
   "source": [
    "# Training parameters\n",
    "n_epochs = 500 # Number of epochs\n",
    "batch_size = 64 # Batch size\n",
    "dropout = 0 # Dropout value\n",
    "lr = 0.01 # Learning rate\n",
    "printing = False # Print after each epoch? \n",
    "\n",
    "# Model parameters\n",
    "n_layers = 6 # Number of layers for encoder and decoder stacks\n",
    "nhead = 6 # Number of heads in multihead attention layers\n",
    "dim_feedforward = 1024 # Number of hidden neurons in positionwise-FCNN \n",
    "dim_out_hidden = 1024 # Number of hidden neurons in output FCNN\n",
    "\n",
    "\n",
    "device = ('cuda' if torch.cuda.is_available() else 'cpu')\n",
    "model = TranslationSystem(fr_wordlst, N_in = 7, N_out = 8, emb_size = 300,\n",
    "                          n_layers = n_layers, nhead = nhead, dim_feedforward = dim_feedforward, \n",
    "                          dim_out_hidden = dim_out_hidden, dropout = dropout).to(device=device)\n",
    "optimiser = optim.SGD(model.parameters(), lr = lr)\n",
    "cost_hist, run_train_hist, val_hist, best_model, best_epoch  = train(model=model, optimiser = optimiser, n_epochs=n_epochs,\n",
    "                                                                    train_set = trainset, val_set = valset, batch_size=batch_size,\n",
    "                                                                    device = device, printing = printing)\n",
    "\n",
    "costs = give_cost_all(valset, model)\n",
    "print('End validation costs: ', costs)\n",
    "print('sum: ', sum(costs))\n",
    "\n",
    "run_tests(model,cost_hist, run_train_hist, val_hist)"
   ]
  },
  {
   "cell_type": "markdown",
   "id": "b89282b0",
   "metadata": {
    "papermill": {
     "duration": 0.023896,
     "end_time": "2023-10-06T01:20:36.436097",
     "exception": false,
     "start_time": "2023-10-06T01:20:36.412201",
     "status": "completed"
    },
    "tags": []
   },
   "source": [
    "Note that although there seems to be some overfitting here, I did not manage to improve the validation error with 0.01 dropout.\n",
    "\n",
    "The model with the best validation error during the training process was saved as `best_model`. "
   ]
  },
  {
   "cell_type": "code",
   "execution_count": 22,
   "id": "5f5fe261",
   "metadata": {
    "execution": {
     "iopub.execute_input": "2023-10-06T01:20:36.482817Z",
     "iopub.status.busy": "2023-10-06T01:20:36.482464Z",
     "iopub.status.idle": "2023-10-06T01:20:37.286607Z",
     "shell.execute_reply": "2023-10-06T01:20:37.285639Z"
    },
    "papermill": {
     "duration": 0.830441,
     "end_time": "2023-10-06T01:20:37.289288",
     "exception": false,
     "start_time": "2023-10-06T01:20:36.458847",
     "status": "completed"
    },
    "tags": []
   },
   "outputs": [
    {
     "name": "stdout",
     "output_type": "stream",
     "text": [
      "This is a sentence:  ceci est une phrase\n",
      "another test:  fais un autre problème\n",
      "just one more:  en simplement un simplement\n",
      "the car is red:  la voiture est rouge\n",
      "the dog walks:  le chien marche\n"
     ]
    }
   ],
   "source": [
    "print('This is a sentence: ', best_model.translate('This is a sentence'))\n",
    "print('another test: ', best_model.translate('another test'))\n",
    "print('just one more: ', best_model.translate('just one more'))\n",
    "print('the car is red: ', best_model.translate('the car is red'))\n",
    "print('the dog walks: ', best_model.translate('the dog walks'))"
   ]
  },
  {
   "cell_type": "code",
   "execution_count": 23,
   "id": "702e8650",
   "metadata": {
    "execution": {
     "iopub.execute_input": "2023-10-06T01:20:37.387311Z",
     "iopub.status.busy": "2023-10-06T01:20:37.386809Z",
     "iopub.status.idle": "2023-10-06T01:20:37.745872Z",
     "shell.execute_reply": "2023-10-06T01:20:37.744771Z"
    },
    "papermill": {
     "duration": 0.407691,
     "end_time": "2023-10-06T01:20:37.749218",
     "exception": false,
     "start_time": "2023-10-06T01:20:37.341527",
     "status": "completed"
    },
    "tags": []
   },
   "outputs": [],
   "source": [
    "torch.save(model,'EnFrmodel_051023_0drop500epochs.pt')\n",
    "torch.save(best_model,'EnFrbestmodel_051023_0drop500epochs.pt')"
   ]
  }
 ],
 "metadata": {
  "kernelspec": {
   "display_name": "Python 3",
   "language": "python",
   "name": "python3"
  },
  "language_info": {
   "codemirror_mode": {
    "name": "ipython",
    "version": 3
   },
   "file_extension": ".py",
   "mimetype": "text/x-python",
   "name": "python",
   "nbconvert_exporter": "python",
   "pygments_lexer": "ipython3",
   "version": "3.10.12"
  },
  "papermill": {
   "default_parameters": {},
   "duration": 13752.703768,
   "end_time": "2023-10-06T01:20:41.107230",
   "environment_variables": {},
   "exception": null,
   "input_path": "__notebook__.ipynb",
   "output_path": "__notebook__.ipynb",
   "parameters": {},
   "start_time": "2023-10-05T21:31:28.403462",
   "version": "2.4.0"
  }
 },
 "nbformat": 4,
 "nbformat_minor": 5
}
